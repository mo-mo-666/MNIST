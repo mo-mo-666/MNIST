{
 "cells": [
  {
   "cell_type": "markdown",
   "metadata": {},
   "source": [
    "# NMF による次元削減"
   ]
  },
  {
   "cell_type": "code",
   "execution_count": 6,
   "metadata": {},
   "outputs": [],
   "source": [
    "import numpy as np\n",
    "import matplotlib\n",
    "import matplotlib.pyplot as plt\n",
    "import pandas as pd\n",
    "\n",
    "%matplotlib inline\n",
    "%config InlineBackend.figure_formats = {'png', 'retina'}"
   ]
  },
  {
   "cell_type": "code",
   "execution_count": 7,
   "metadata": {},
   "outputs": [],
   "source": [
    "DATADIR = '../../data/MNIST/raw/'\n",
    "\n",
    "trainimg_path = DATADIR + 'train-images-idx3-ubyte'\n",
    "trainlabel_path = DATADIR + 'train-labels-idx1-ubyte'\n",
    "testimg_path = DATADIR + 't10k-images-idx3-ubyte'\n",
    "testlabel_path = DATADIR + 't10k-labels-idx1-ubyte'"
   ]
  },
  {
   "cell_type": "code",
   "execution_count": 8,
   "metadata": {},
   "outputs": [],
   "source": [
    "def load_img(path):\n",
    "    with open(path, 'rb') as f:\n",
    "        data = np.frombuffer(f.read(), np.uint8, offset=16)\n",
    "    data = data.reshape(-1, 28**2)\n",
    "    return data\n",
    "\n",
    "def load_label(path):\n",
    "    with open(path, 'rb') as f:\n",
    "        label = np.frombuffer(f.read(), np.uint8, offset=8)\n",
    "    return label"
   ]
  },
  {
   "cell_type": "code",
   "execution_count": 9,
   "metadata": {},
   "outputs": [],
   "source": [
    "trainimgs = load_img(trainimg_path)\n",
    "trainlabels = load_label(trainlabel_path)\n",
    "testimgs = load_img(testimg_path)\n",
    "testlabels = load_label(testlabel_path)"
   ]
  },
  {
   "cell_type": "markdown",
   "metadata": {},
   "source": [
    "### 数字毎に辞書を作る"
   ]
  },
  {
   "cell_type": "code",
   "execution_count": 10,
   "metadata": {},
   "outputs": [
    {
     "data": {
      "text/html": [
       "<div>\n",
       "<style scoped>\n",
       "    .dataframe tbody tr th:only-of-type {\n",
       "        vertical-align: middle;\n",
       "    }\n",
       "\n",
       "    .dataframe tbody tr th {\n",
       "        vertical-align: top;\n",
       "    }\n",
       "\n",
       "    .dataframe thead th {\n",
       "        text-align: right;\n",
       "    }\n",
       "</style>\n",
       "<table border=\"1\" class=\"dataframe\">\n",
       "  <thead>\n",
       "    <tr style=\"text-align: right;\">\n",
       "      <th></th>\n",
       "      <th>0</th>\n",
       "      <th>1</th>\n",
       "      <th>2</th>\n",
       "      <th>3</th>\n",
       "      <th>4</th>\n",
       "      <th>5</th>\n",
       "      <th>6</th>\n",
       "      <th>7</th>\n",
       "      <th>8</th>\n",
       "      <th>9</th>\n",
       "    </tr>\n",
       "  </thead>\n",
       "  <tbody>\n",
       "    <tr>\n",
       "      <th>train</th>\n",
       "      <td>5923</td>\n",
       "      <td>6742</td>\n",
       "      <td>5958</td>\n",
       "      <td>6131</td>\n",
       "      <td>5842</td>\n",
       "      <td>5421</td>\n",
       "      <td>5918</td>\n",
       "      <td>6265</td>\n",
       "      <td>5851</td>\n",
       "      <td>5949</td>\n",
       "    </tr>\n",
       "    <tr>\n",
       "      <th>test</th>\n",
       "      <td>980</td>\n",
       "      <td>1135</td>\n",
       "      <td>1032</td>\n",
       "      <td>1010</td>\n",
       "      <td>982</td>\n",
       "      <td>892</td>\n",
       "      <td>958</td>\n",
       "      <td>1028</td>\n",
       "      <td>974</td>\n",
       "      <td>1009</td>\n",
       "    </tr>\n",
       "  </tbody>\n",
       "</table>\n",
       "</div>"
      ],
      "text/plain": [
       "          0     1     2     3     4     5     6     7     8     9\n",
       "train  5923  6742  5958  6131  5842  5421  5918  6265  5851  5949\n",
       "test    980  1135  1032  1010   982   892   958  1028   974  1009"
      ]
     },
     "execution_count": 10,
     "metadata": {},
     "output_type": "execute_result"
    }
   ],
   "source": [
    "train = dict()\n",
    "test = dict()\n",
    "trainnum = list()\n",
    "testnum = list()\n",
    "\n",
    "for i in range(10):\n",
    "    train[i] = trainimgs[trainlabels == i]\n",
    "    test[i] = testimgs[testlabels == i]\n",
    "    trainnum.append(len(train[i]))\n",
    "    testnum.append(len(test[i]))\n",
    "pd.DataFrame([trainnum, testnum], columns=range(10), index=['train','test'])"
   ]
  },
  {
   "cell_type": "code",
   "execution_count": null,
   "metadata": {},
   "outputs": [],
   "source": [
    "%%time\n",
    "from sklearn.decomposition import NMF\n",
    "\n",
    "for n, imgs in train.values()\n",
    "\n"
   ]
  }
 ],
 "metadata": {
  "kernelspec": {
   "display_name": "Python 3",
   "language": "python",
   "name": "python3"
  },
  "language_info": {
   "codemirror_mode": {
    "name": "ipython",
    "version": 3
   },
   "file_extension": ".py",
   "mimetype": "text/x-python",
   "name": "python",
   "nbconvert_exporter": "python",
   "pygments_lexer": "ipython3",
   "version": "3.7.2"
  }
 },
 "nbformat": 4,
 "nbformat_minor": 2
}
