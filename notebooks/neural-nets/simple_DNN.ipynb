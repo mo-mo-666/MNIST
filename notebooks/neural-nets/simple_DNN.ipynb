{
  "nbformat": 4,
  "nbformat_minor": 0,
  "metadata": {
    "kernelspec": {
      "name": "python3",
      "display_name": "Python 3"
    },
    "language_info": {
      "codemirror_mode": {
        "name": "ipython",
        "version": 3
      },
      "file_extension": ".py",
      "mimetype": "text/x-python",
      "name": "python",
      "nbconvert_exporter": "python",
      "pygments_lexer": "ipython3",
      "version": "3.7.2"
    },
    "colab": {
      "name": "simple-DNN.ipynb",
      "provenance": []
    },
    "accelerator": "GPU"
  },
  "cells": [
    {
      "cell_type": "markdown",
      "metadata": {
        "id": "tezQWrdps6Y_",
        "colab_type": "text"
      },
      "source": [
        "# Simple DNN\n",
        "https://pytorch.org/tutorials/beginner/blitz/cifar10_tutorial.html#sphx-glr-beginner-blitz-cifar10-tutorial-py"
      ]
    },
    {
      "cell_type": "code",
      "metadata": {
        "id": "OD36fxMDs6ZD",
        "colab_type": "code",
        "colab": {}
      },
      "source": [
        "import numpy as np\n",
        "import matplotlib.pyplot as plt\n",
        "import seaborn\n",
        "import torch\n",
        "import torchvision\n",
        "%matplotlib inline\n",
        "\n",
        "seaborn.set()\n",
        "%config InlineBackend.figure_formats = {'png', 'retina'}"
      ],
      "execution_count": 0,
      "outputs": []
    },
    {
      "cell_type": "markdown",
      "metadata": {
        "id": "ZDAGaxBHs6ZM",
        "colab_type": "text"
      },
      "source": [
        "### データの読み込み"
      ]
    },
    {
      "cell_type": "code",
      "metadata": {
        "id": "e5WqICdVs6ZN",
        "colab_type": "code",
        "colab": {
          "base_uri": "https://localhost:8080/",
          "height": 269
        },
        "outputId": "3823e573-1e6e-428b-b4ff-5883695e9d5b"
      },
      "source": [
        "import torch\n",
        "import torchvision\n",
        "import torchvision.transforms as transforms\n",
        "\n",
        "# 画像を読み込んだ時の変換関数を作る\n",
        "tfm = transforms.Compose([transforms.ToTensor(),\n",
        "                          transforms.Normalize((0,), (1,)),\n",
        "                         ])\n",
        "# それぞれのデータと読み込み方を指定\n",
        "trainset = torchvision.datasets.MNIST(root='../../data', train=True, download=True, transform=tfm)\n",
        "trainloader = torch.utils.data.DataLoader(trainset, batch_size=100,\n",
        "                                          shuffle=True, num_workers=2)\n",
        "\n",
        "testset = torchvision.datasets.MNIST(root='../../data', train=False, download=True, transform=tfm)\n",
        "testloader = torch.utils.data.DataLoader(testset, batch_size=100,\n",
        "                                          shuffle=True, num_workers=2)\n"
      ],
      "execution_count": 2,
      "outputs": [
        {
          "output_type": "stream",
          "text": [
            "\r0it [00:00, ?it/s]"
          ],
          "name": "stderr"
        },
        {
          "output_type": "stream",
          "text": [
            "Downloading http://yann.lecun.com/exdb/mnist/train-images-idx3-ubyte.gz to ../../data/MNIST/raw/train-images-idx3-ubyte.gz\n"
          ],
          "name": "stdout"
        },
        {
          "output_type": "stream",
          "text": [
            "9920512it [00:01, 8925813.47it/s]                            \n"
          ],
          "name": "stderr"
        },
        {
          "output_type": "stream",
          "text": [
            "Extracting ../../data/MNIST/raw/train-images-idx3-ubyte.gz to ../../data/MNIST/raw\n"
          ],
          "name": "stdout"
        },
        {
          "output_type": "stream",
          "text": [
            "  0%|          | 0/28881 [00:00<?, ?it/s]"
          ],
          "name": "stderr"
        },
        {
          "output_type": "stream",
          "text": [
            "Downloading http://yann.lecun.com/exdb/mnist/train-labels-idx1-ubyte.gz to ../../data/MNIST/raw/train-labels-idx1-ubyte.gz\n"
          ],
          "name": "stdout"
        },
        {
          "output_type": "stream",
          "text": [
            "32768it [00:00, 134973.00it/s]           \n",
            "  0%|          | 0/1648877 [00:00<?, ?it/s]"
          ],
          "name": "stderr"
        },
        {
          "output_type": "stream",
          "text": [
            "Extracting ../../data/MNIST/raw/train-labels-idx1-ubyte.gz to ../../data/MNIST/raw\n",
            "Downloading http://yann.lecun.com/exdb/mnist/t10k-images-idx3-ubyte.gz to ../../data/MNIST/raw/t10k-images-idx3-ubyte.gz\n"
          ],
          "name": "stdout"
        },
        {
          "output_type": "stream",
          "text": [
            "1654784it [00:00, 2555224.60it/s]                           \n",
            "0it [00:00, ?it/s]"
          ],
          "name": "stderr"
        },
        {
          "output_type": "stream",
          "text": [
            "Extracting ../../data/MNIST/raw/t10k-images-idx3-ubyte.gz to ../../data/MNIST/raw\n",
            "Downloading http://yann.lecun.com/exdb/mnist/t10k-labels-idx1-ubyte.gz to ../../data/MNIST/raw/t10k-labels-idx1-ubyte.gz\n"
          ],
          "name": "stdout"
        },
        {
          "output_type": "stream",
          "text": [
            "8192it [00:00, 50906.41it/s]            "
          ],
          "name": "stderr"
        },
        {
          "output_type": "stream",
          "text": [
            "Extracting ../../data/MNIST/raw/t10k-labels-idx1-ubyte.gz to ../../data/MNIST/raw\n",
            "Processing...\n",
            "Done!\n"
          ],
          "name": "stdout"
        },
        {
          "output_type": "stream",
          "text": [
            "\n"
          ],
          "name": "stderr"
        }
      ]
    },
    {
      "cell_type": "markdown",
      "metadata": {
        "id": "e5Iw2u3ntSC6",
        "colab_type": "text"
      },
      "source": [
        "#### GPUが使えるなら使う"
      ]
    },
    {
      "cell_type": "code",
      "metadata": {
        "id": "7qd3mZExtRpU",
        "colab_type": "code",
        "colab": {}
      },
      "source": [
        "def try_gpu(e):\n",
        "    if torch.cuda.is_available():\n",
        "        return e.cuda()\n",
        "    return e"
      ],
      "execution_count": 0,
      "outputs": []
    },
    {
      "cell_type": "markdown",
      "metadata": {
        "id": "p4k6JKcws6ZR",
        "colab_type": "text"
      },
      "source": [
        "### ネットワークを作る"
      ]
    },
    {
      "cell_type": "code",
      "metadata": {
        "id": "u4DWjWtes6ZS",
        "colab_type": "code",
        "outputId": "a861589e-6ed7-48c4-d84e-716482eb6d21",
        "colab": {
          "base_uri": "https://localhost:8080/",
          "height": 143
        }
      },
      "source": [
        "import torch\n",
        "import torch.nn as nn\n",
        "import torch.nn.functional as F\n",
        "\n",
        "\n",
        "class Net(nn.Module):\n",
        "\n",
        "    def __init__(self):\n",
        "        super(Net, self).__init__() # super の第一引数はこのクラスの名前にする\n",
        "        self.fc1 = nn.Linear(28*28, 300)\n",
        "        self.fc2 = nn.Linear(300, 100)\n",
        "        self.fc3 = nn.Linear(100, 50)\n",
        "        self.fc4 = nn.Linear(50, 20)\n",
        "        self.fc5 = nn.Linear(20, 10)\n",
        "        self.layers = [self.fc1, self.fc2, self.fc3, self.fc4, self.fc5]\n",
        "        \n",
        "    def forward(self, x):\n",
        "        x = x.view(-1, 28*28)   # バッチを除いて1次元化 \n",
        "        for layer in self.layers:\n",
        "            x = F.relu(layer(x))\n",
        "        return x\n",
        "    \n",
        "\n",
        "net = Net()\n",
        "net = try_gpu(net)\n",
        "print(net)"
      ],
      "execution_count": 4,
      "outputs": [
        {
          "output_type": "stream",
          "text": [
            "Net(\n",
            "  (fc1): Linear(in_features=784, out_features=300, bias=True)\n",
            "  (fc2): Linear(in_features=300, out_features=100, bias=True)\n",
            "  (fc3): Linear(in_features=100, out_features=50, bias=True)\n",
            "  (fc4): Linear(in_features=50, out_features=20, bias=True)\n",
            "  (fc5): Linear(in_features=20, out_features=10, bias=True)\n",
            ")\n"
          ],
          "name": "stdout"
        }
      ]
    },
    {
      "cell_type": "markdown",
      "metadata": {
        "id": "_gh5vuxqs6ZW",
        "colab_type": "text"
      },
      "source": [
        "### 損失関数と最適化手法の定義"
      ]
    },
    {
      "cell_type": "code",
      "metadata": {
        "id": "4yn-94zds6ZX",
        "colab_type": "code",
        "colab": {}
      },
      "source": [
        "import torch.nn as nn\n",
        "import torch.optim as optim\n",
        "\n",
        "criterion = nn.CrossEntropyLoss()\n",
        "optimizer = optim.Adam(net.parameters(), lr=0.005) # 微分の\"使い方\""
      ],
      "execution_count": 0,
      "outputs": []
    },
    {
      "cell_type": "markdown",
      "metadata": {
        "id": "cqlAxDYRs6Za",
        "colab_type": "text"
      },
      "source": [
        "### 学習する"
      ]
    },
    {
      "cell_type": "code",
      "metadata": {
        "id": "QFC7-6YAs6Zb",
        "colab_type": "code",
        "outputId": "dcd8fef7-ee3e-41fe-da57-65048a249247",
        "colab": {
          "base_uri": "https://localhost:8080/",
          "height": 1000
        }
      },
      "source": [
        "%%time\n",
        "running_losses = list()\n",
        "for epoch in range(10):  # loop over the dataset multiple times\n",
        "    running_loss = 0.0\n",
        "    for i, data in enumerate(trainloader, start=1): \n",
        "        # get the inputs\n",
        "        inputs, labels = data\n",
        "        inputs, labels = try_gpu(inputs), try_gpu(labels)\n",
        "\n",
        "        # 計算していた逆伝播を0に戻す\n",
        "        optimizer.zero_grad()\n",
        "\n",
        "        # forward / backward / optimize\n",
        "        outputs = net(inputs)\n",
        "        loss = criterion(outputs, labels)  # データを損失関数に突っ込む\n",
        "        loss.backward()    # 誤差逆伝播(パラメータの変化の微分を計算)\n",
        "        optimizer.step()   # 最適化手法をもとにパラメータ更新\n",
        "\n",
        "        # print statistics\n",
        "        running_loss += loss.item()\n",
        "        if i % 100 == 0:    # print every 200 mini-batches (1バッチは100枚 trainデータは60000枚あるので600までいく)\n",
        "            running_loss_mean = running_loss / 100\n",
        "            print('%d epoch /%5d roop  loss: %.3f' %\n",
        "                  (epoch + 1, i, running_loss_mean))\n",
        "            running_losses.append(running_loss_mean)\n",
        "            running_loss = 0.0\n",
        "\n",
        "\n",
        "print('Finished Training')\n",
        "\n",
        "plt.plot(running_losses)\n",
        "plt.title(\"running loss\")\n",
        "plt.show()"
      ],
      "execution_count": 6,
      "outputs": [
        {
          "output_type": "stream",
          "text": [
            "1 epoch /  100 roop  loss: 0.868\n",
            "1 epoch /  200 roop  loss: 0.310\n",
            "1 epoch /  300 roop  loss: 0.247\n",
            "1 epoch /  400 roop  loss: 0.207\n",
            "1 epoch /  500 roop  loss: 0.177\n",
            "1 epoch /  600 roop  loss: 0.165\n",
            "2 epoch /  100 roop  loss: 0.120\n",
            "2 epoch /  200 roop  loss: 0.125\n",
            "2 epoch /  300 roop  loss: 0.129\n",
            "2 epoch /  400 roop  loss: 0.122\n",
            "2 epoch /  500 roop  loss: 0.127\n",
            "2 epoch /  600 roop  loss: 0.117\n",
            "3 epoch /  100 roop  loss: 0.086\n",
            "3 epoch /  200 roop  loss: 0.087\n",
            "3 epoch /  300 roop  loss: 0.091\n",
            "3 epoch /  400 roop  loss: 0.085\n",
            "3 epoch /  500 roop  loss: 0.089\n",
            "3 epoch /  600 roop  loss: 0.099\n",
            "4 epoch /  100 roop  loss: 0.072\n",
            "4 epoch /  200 roop  loss: 0.074\n",
            "4 epoch /  300 roop  loss: 0.078\n",
            "4 epoch /  400 roop  loss: 0.081\n",
            "4 epoch /  500 roop  loss: 0.064\n",
            "4 epoch /  600 roop  loss: 0.074\n",
            "5 epoch /  100 roop  loss: 0.051\n",
            "5 epoch /  200 roop  loss: 0.065\n",
            "5 epoch /  300 roop  loss: 0.061\n",
            "5 epoch /  400 roop  loss: 0.065\n",
            "5 epoch /  500 roop  loss: 0.063\n",
            "5 epoch /  600 roop  loss: 0.063\n",
            "6 epoch /  100 roop  loss: 0.047\n",
            "6 epoch /  200 roop  loss: 0.050\n",
            "6 epoch /  300 roop  loss: 0.055\n",
            "6 epoch /  400 roop  loss: 0.051\n",
            "6 epoch /  500 roop  loss: 0.045\n",
            "6 epoch /  600 roop  loss: 0.052\n",
            "7 epoch /  100 roop  loss: 0.033\n",
            "7 epoch /  200 roop  loss: 0.049\n",
            "7 epoch /  300 roop  loss: 0.050\n",
            "7 epoch /  400 roop  loss: 0.057\n",
            "7 epoch /  500 roop  loss: 0.054\n",
            "7 epoch /  600 roop  loss: 0.047\n",
            "8 epoch /  100 roop  loss: 0.049\n",
            "8 epoch /  200 roop  loss: 0.038\n",
            "8 epoch /  300 roop  loss: 0.039\n",
            "8 epoch /  400 roop  loss: 0.037\n",
            "8 epoch /  500 roop  loss: 0.044\n",
            "8 epoch /  600 roop  loss: 0.050\n",
            "9 epoch /  100 roop  loss: 0.031\n",
            "9 epoch /  200 roop  loss: 0.046\n",
            "9 epoch /  300 roop  loss: 0.039\n",
            "9 epoch /  400 roop  loss: 0.044\n",
            "9 epoch /  500 roop  loss: 0.056\n",
            "9 epoch /  600 roop  loss: 0.041\n",
            "10 epoch /  100 roop  loss: 0.027\n",
            "10 epoch /  200 roop  loss: 0.033\n",
            "10 epoch /  300 roop  loss: 0.044\n",
            "10 epoch /  400 roop  loss: 0.039\n",
            "10 epoch /  500 roop  loss: 0.035\n",
            "10 epoch /  600 roop  loss: 0.036\n",
            "Finished Training\n"
          ],
          "name": "stdout"
        },
        {
          "output_type": "display_data",
          "data": {
            "image/png": "[encoded data removed]",
            "text/plain": [
              "<Figure size 432x288 with 1 Axes>"
            ]
          },
          "metadata": {
            "tags": [],
            "image/png": {
              "width": 376,
              "height": 266
            }
          }
        },
        {
          "output_type": "stream",
          "text": [
            "CPU times: user 31.8 s, sys: 2.87 s, total: 34.7 s\n",
            "Wall time: 1min 31s\n"
          ],
          "name": "stdout"
        }
      ]
    },
    {
      "cell_type": "markdown",
      "metadata": {
        "id": "y1sZZzBys6Ze",
        "colab_type": "text"
      },
      "source": [
        "### 個別にテスト"
      ]
    },
    {
      "cell_type": "code",
      "metadata": {
        "id": "QCLvg81es6Zf",
        "colab_type": "code",
        "outputId": "ec8a90ae-2bd7-4796-a039-9f76d746fca2",
        "colab": {
          "base_uri": "https://localhost:8080/",
          "height": 317
        }
      },
      "source": [
        "each_testloader = torch.utils.data.DataLoader(testset, batch_size=1,\n",
        "                                          shuffle=True, num_workers=2)\n",
        "\n",
        "\n",
        "dataiter = iter(each_testloader) \n",
        "plt.figure(figsize=(10,5))\n",
        "with torch.no_grad(): # 学習のときのようなバックグラウンドでの勾配計算は不要なのでしない\n",
        "    for epoch in range(3*8):\n",
        "        image, label = dataiter.next() # each_testloader はバッチサイズを１にしたので1枚ずつ出てくる\n",
        "        image, label = try_gpu(image), try_gpu(label)\n",
        "        output = net(image)\n",
        "        _, predicted = torch.max(output, 1)\n",
        "        predicted = predicted.item() # tensor(pytorchでのデータ型)をpythonの数に直す\n",
        "        image = image.cpu().reshape(28, 28) \n",
        "        label = label.item() \n",
        "        plt.subplot(3, 8, epoch+1)\n",
        "        plt.imshow(image, cmap='gray')\n",
        "        if predicted == label:\n",
        "            plt.title(predicted, color='black')\n",
        "        else:\n",
        "            plt.title(predicted, color='red')\n",
        "    plt.show()\n"
      ],
      "execution_count": 7,
      "outputs": [
        {
          "output_type": "display_data",
          "data": {
            "image/png": "[encoded data removed]",
            "text/plain": [
              "<Figure size 720x360 with 24 Axes>"
            ]
          },
          "metadata": {
            "tags": [],
            "image/png": {
              "width": 597,
              "height": 300
            }
          }
        }
      ]
    },
    {
      "cell_type": "markdown",
      "metadata": {
        "id": "Dhk9TWf9s6Zi",
        "colab_type": "text"
      },
      "source": [
        "### 正解率を出す"
      ]
    },
    {
      "cell_type": "code",
      "metadata": {
        "id": "g05Ec-F2s6Zj",
        "colab_type": "code",
        "outputId": "0883890e-601d-4a18-f228-c540b2ca6220",
        "colab": {
          "base_uri": "https://localhost:8080/",
          "height": 89
        }
      },
      "source": [
        "%%time\n",
        "with torch.no_grad(): # 学習のときのようなバックグラウンドでの勾配計算は不要なのでしない\n",
        "    for txt, loader in zip(('Train', 'Test '), (trainloader, testloader)):\n",
        "        correct = 0\n",
        "        total = 0\n",
        "        for data in loader:\n",
        "            images, labels = data\n",
        "            images, labels = try_gpu(images), try_gpu(labels)\n",
        "            outputs = net(images)\n",
        "            _, predicted = torch.max(outputs.data, 1)\n",
        "            total += labels.size(0)\n",
        "            correct += (predicted == labels).sum().item()\n",
        "        print(f'{txt} Accuracy: {100 * correct / total} %')\n",
        "        "
      ],
      "execution_count": 8,
      "outputs": [
        {
          "output_type": "stream",
          "text": [
            "Train Accuracy: 99.17 %\n",
            "Test  Accuracy: 97.5 %\n",
            "CPU times: user 1.21 s, sys: 373 ms, total: 1.59 s\n",
            "Wall time: 9.36 s\n"
          ],
          "name": "stdout"
        }
      ]
    },
    {
      "cell_type": "markdown",
      "metadata": {
        "id": "i2X5IRSrs6Zn",
        "colab_type": "text"
      },
      "source": [
        "### 学習したパラメータの保存"
      ]
    },
    {
      "cell_type": "code",
      "metadata": {
        "id": "4IdQROVVs6Zq",
        "colab_type": "code",
        "colab": {}
      },
      "source": [
        "SAVEPATH = '../../data/parameters/neural-nets/simple-DNN-param.pt'\n",
        "torch.save(net.state_dict(), SAVEPATH)"
      ],
      "execution_count": 0,
      "outputs": []
    },
    {
      "cell_type": "markdown",
      "metadata": {
        "id": "18yO4uE7s6Zw",
        "colab_type": "text"
      },
      "source": [
        "### 学習したパラメータを読み出して組み込む"
      ]
    },
    {
      "cell_type": "code",
      "metadata": {
        "id": "KHRCxiPas6Zx",
        "colab_type": "code",
        "colab": {}
      },
      "source": [
        "SAVEPATH = '../../data/parameters/neural-nets/simple-DNN-param.pt'\n",
        "net2 = Net()\n",
        "net2.load_state_dict(torch.load(SAVEPATH))"
      ],
      "execution_count": 0,
      "outputs": []
    },
    {
      "cell_type": "markdown",
      "metadata": {
        "id": "MHc1Qfims6Z0",
        "colab_type": "text"
      },
      "source": [
        "### ちゃんと読み出せているかの確認"
      ]
    },
    {
      "cell_type": "code",
      "metadata": {
        "id": "4qWOVPQ5s6Z1",
        "colab_type": "code",
        "outputId": "0c7d04a7-60e8-49cc-cc1e-62473629a3fb",
        "colab": {}
      },
      "source": [
        "%%time\n",
        "with torch.no_grad(): # 学習のときのようなバックグラウンドでの勾配計算は不要なのでしない\n",
        "    for txt, loader in zip(('Train', 'Test '), (trainloader, testloader)):\n",
        "        print('foo')\n",
        "        correct = 0\n",
        "        total = 0\n",
        "        for data in loader:\n",
        "            print('not yet')\n",
        "            images, labels = data\n",
        "            outputs = net2(images)\n",
        "            _, predicted = torch.max(outputs.data, 1)\n",
        "            total += labels.size(0)\n",
        "            correct += (predicted == labels).sum().item()\n",
        "        print(f'{txt} Accuracy: {100 * correct / total} %')\n",
        "        "
      ],
      "execution_count": 0,
      "outputs": [
        {
          "output_type": "stream",
          "text": [
            "foo\n"
          ],
          "name": "stdout"
        }
      ]
    },
    {
      "cell_type": "code",
      "metadata": {
        "id": "MRT7nvhHs6Z4",
        "colab_type": "code",
        "colab": {}
      },
      "source": [
        ""
      ],
      "execution_count": 0,
      "outputs": []
    }
  ]
}