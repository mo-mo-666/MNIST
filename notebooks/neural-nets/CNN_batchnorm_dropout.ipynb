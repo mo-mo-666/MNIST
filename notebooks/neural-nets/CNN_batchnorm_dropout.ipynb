{
  "nbformat": 4,
  "nbformat_minor": 0,
  "metadata": {
    "kernelspec": {
      "name": "python3",
      "display_name": "Python 3"
    },
    "language_info": {
      "codemirror_mode": {
        "name": "ipython",
        "version": 3
      },
      "file_extension": ".py",
      "mimetype": "text/x-python",
      "name": "python",
      "nbconvert_exporter": "python",
      "pygments_lexer": "ipython3",
      "version": "3.7.2"
    },
    "colab": {
      "name": "CNN-batchnorm-dropout.ipynb",
      "provenance": [],
      "collapsed_sections": []
    },
    "accelerator": "GPU"
  },
  "cells": [
    {
      "cell_type": "markdown",
      "metadata": {
        "id": "I2tV18M5gmmv",
        "colab_type": "text"
      },
      "source": [
        "# CNN + Batch Normalization + Dropout\n",
        "https://pytorch.org/tutorials/beginner/blitz/cifar10_tutorial.html#sphx-glr-beginner-blitz-cifar10-tutorial-py"
      ]
    },
    {
      "cell_type": "code",
      "metadata": {
        "id": "i3DDdRaPgmmy",
        "colab_type": "code",
        "colab": {}
      },
      "source": [
        "import numpy as np\n",
        "import matplotlib.pyplot as plt\n",
        "import seaborn\n",
        "import torch\n",
        "import torchvision\n",
        "import tqdm\n",
        "%matplotlib inline\n",
        "\n",
        "seaborn.set()\n",
        "%config InlineBackend.figure_formats = {'png', 'retina'}"
      ],
      "execution_count": 0,
      "outputs": []
    },
    {
      "cell_type": "markdown",
      "metadata": {
        "id": "dUi2JcJogmm3",
        "colab_type": "text"
      },
      "source": [
        "### データの読み込み"
      ]
    },
    {
      "cell_type": "code",
      "metadata": {
        "id": "ld-VzKnjgmm4",
        "colab_type": "code",
        "colab": {}
      },
      "source": [
        "import torch\n",
        "import torchvision\n",
        "import torchvision.transforms as transforms\n",
        "\n",
        "# 画像を読み込んだ時の変換関数を作る\n",
        "tfm = transforms.Compose([transforms.ToTensor(),\n",
        "                          transforms.Normalize((0,), (1,)),\n",
        "                         ])\n",
        "# それぞれのデータと読み込み方を指定\n",
        "trainset = torchvision.datasets.MNIST(root='../../data', train=True, download=True, transform=tfm)\n",
        "trainloader = torch.utils.data.DataLoader(trainset, batch_size=100,\n",
        "                                          shuffle=True, num_workers=2)\n",
        "\n",
        "testset = torchvision.datasets.MNIST(root='../../data', train=False, download=True, transform=tfm)\n",
        "testloader = torch.utils.data.DataLoader(testset, batch_size=100,\n",
        "                                          shuffle=True, num_workers=2)\n"
      ],
      "execution_count": 0,
      "outputs": []
    },
    {
      "cell_type": "markdown",
      "metadata": {
        "id": "Eb7hhDotmocz",
        "colab_type": "text"
      },
      "source": [
        "#### GPU が使えるなら使う"
      ]
    },
    {
      "cell_type": "code",
      "metadata": {
        "id": "ebPZcpb6mmz_",
        "colab_type": "code",
        "colab": {}
      },
      "source": [
        "def try_gpu(e):\n",
        "    if torch.cuda.is_available():\n",
        "        return e.cuda()\n",
        "    return e"
      ],
      "execution_count": 0,
      "outputs": []
    },
    {
      "cell_type": "markdown",
      "metadata": {
        "id": "VT05q4gFgmm8",
        "colab_type": "text"
      },
      "source": [
        "### ネットワークを作る"
      ]
    },
    {
      "cell_type": "code",
      "metadata": {
        "id": "8MCANbIPgmm9",
        "colab_type": "code",
        "outputId": "4de78f19-79d9-4f7b-dcf3-a3b3ef5e6beb",
        "colab": {
          "base_uri": "https://localhost:8080/",
          "height": 1000
        }
      },
      "source": [
        "import torch\n",
        "import torch.nn as nn\n",
        "import torch.nn.functional as F\n",
        "\n",
        "\n",
        "class Customconv(nn.Module):\n",
        "    def __init__(self, in_channels, out_channels, kernel_size, stride=1, padding=0, batch_norm=True, dropout_rate=0.5):\n",
        "        super().__init__()\n",
        "        self.batch_norm = batch_norm\n",
        "        self.conv = nn.Conv2d(in_channels, out_channels, kernel_size, stride=stride, padding=padding)\n",
        "        self.relu = nn.ReLU()\n",
        "        self.norm = nn.BatchNorm2d(out_channels)\n",
        "        self.dropout = nn.Dropout2d(dropout_rate)\n",
        "\n",
        "    def forward(self, x):\n",
        "        x = self.conv(x)\n",
        "        x = self.relu(x)\n",
        "        if self.batch_norm:\n",
        "            x = self.norm(x)\n",
        "        x = self.dropout(x)\n",
        "        return x\n",
        "\n",
        "\n",
        "class Customlinear(nn.Module):\n",
        "    def __init__(self, in_features, out_features, bias=True, batch_norm=True, dropout_rate=0.5):\n",
        "        super().__init__()\n",
        "        self.batch_norm = batch_norm\n",
        "        self.fc = nn.Linear(in_features, out_features, bias)\n",
        "        self.relu = nn.ReLU()\n",
        "        self.norm = nn.BatchNorm1d(out_features)\n",
        "        self.dropout = nn.Dropout(dropout_rate)\n",
        "\n",
        "    def forward(self, x):\n",
        "        x = self.fc(x)\n",
        "        x = self.relu(x)\n",
        "        if self.batch_norm:\n",
        "            x = self.norm(x)\n",
        "        x = self.dropout(x)\n",
        "        return x\n",
        "\n",
        "class Net(nn.Module):\n",
        "\n",
        "    def __init__(self):\n",
        "        super(Net, self).__init__() # super の第一引数はこのクラスの名前にする\n",
        "        self.conv1 = Customconv(1, 4, 5, padding=2)  # 28*28*1 -> 28*28*4\n",
        "        self.conv2 = Customconv(4, 16, 5,padding=2) # 28*28*4 -> 28*28*16\n",
        "        self.conv3 = Customconv(16, 64, 5, stride=2, padding=2) # 28*28*16 -> 14*14*64\n",
        "        self.conv4 = Customconv(64, 32, 3)          # 14*14*64 -> 12*12*32\n",
        "        self.conv5 = Customconv(32, 16, 3, stride=2)          # 12*12*32 -> 5*5*16\n",
        "        self.fc6 = Customlinear(5*5*16, 200)          # 5*5*16 -> 200\n",
        "        self.fc7 = Customlinear(200, 200)\n",
        "        self.fc8 = Customlinear(200, 50)\n",
        "        self.fc9 = Customlinear(50, 20)\n",
        "        self.fc10 = Customlinear(20, 10)\n",
        "        \n",
        "    def forward(self, x):\n",
        "        x = self.conv1(x)\n",
        "        x = self.conv2(x)\n",
        "        x = self.conv3(x)\n",
        "        x = self.conv4(x)\n",
        "        x = self.conv5(x)\n",
        "        x = x.view(-1, 5*5*16)\n",
        "        x = self.fc6(x)\n",
        "        x = self.fc7(x)\n",
        "        x = self.fc8(x)\n",
        "        x = self.fc9(x)\n",
        "        x = self.fc10(x)\n",
        "        return x\n",
        "    \n",
        "\n",
        "net = Net()\n",
        "net = try_gpu(net)\n",
        "print(net)"
      ],
      "execution_count": 4,
      "outputs": [
        {
          "output_type": "stream",
          "text": [
            "Net(\n",
            "  (conv1): Customconv(\n",
            "    (conv): Conv2d(1, 4, kernel_size=(5, 5), stride=(1, 1), padding=(2, 2))\n",
            "    (relu): ReLU()\n",
            "    (norm): BatchNorm2d(4, eps=1e-05, momentum=0.1, affine=True, track_running_stats=True)\n",
            "    (dropout): Dropout2d(p=0.5, inplace=False)\n",
            "  )\n",
            "  (conv2): Customconv(\n",
            "    (conv): Conv2d(4, 16, kernel_size=(5, 5), stride=(1, 1), padding=(2, 2))\n",
            "    (relu): ReLU()\n",
            "    (norm): BatchNorm2d(16, eps=1e-05, momentum=0.1, affine=True, track_running_stats=True)\n",
            "    (dropout): Dropout2d(p=0.5, inplace=False)\n",
            "  )\n",
            "  (conv3): Customconv(\n",
            "    (conv): Conv2d(16, 64, kernel_size=(5, 5), stride=(2, 2), padding=(2, 2))\n",
            "    (relu): ReLU()\n",
            "    (norm): BatchNorm2d(64, eps=1e-05, momentum=0.1, affine=True, track_running_stats=True)\n",
            "    (dropout): Dropout2d(p=0.5, inplace=False)\n",
            "  )\n",
            "  (conv4): Customconv(\n",
            "    (conv): Conv2d(64, 32, kernel_size=(3, 3), stride=(1, 1))\n",
            "    (relu): ReLU()\n",
            "    (norm): BatchNorm2d(32, eps=1e-05, momentum=0.1, affine=True, track_running_stats=True)\n",
            "    (dropout): Dropout2d(p=0.5, inplace=False)\n",
            "  )\n",
            "  (conv5): Customconv(\n",
            "    (conv): Conv2d(32, 16, kernel_size=(3, 3), stride=(2, 2))\n",
            "    (relu): ReLU()\n",
            "    (norm): BatchNorm2d(16, eps=1e-05, momentum=0.1, affine=True, track_running_stats=True)\n",
            "    (dropout): Dropout2d(p=0.5, inplace=False)\n",
            "  )\n",
            "  (fc6): Customlinear(\n",
            "    (fc): Linear(in_features=400, out_features=200, bias=True)\n",
            "    (relu): ReLU()\n",
            "    (norm): BatchNorm1d(200, eps=1e-05, momentum=0.1, affine=True, track_running_stats=True)\n",
            "    (dropout): Dropout(p=0.5, inplace=False)\n",
            "  )\n",
            "  (fc7): Customlinear(\n",
            "    (fc): Linear(in_features=200, out_features=200, bias=True)\n",
            "    (relu): ReLU()\n",
            "    (norm): BatchNorm1d(200, eps=1e-05, momentum=0.1, affine=True, track_running_stats=True)\n",
            "    (dropout): Dropout(p=0.5, inplace=False)\n",
            "  )\n",
            "  (fc8): Customlinear(\n",
            "    (fc): Linear(in_features=200, out_features=50, bias=True)\n",
            "    (relu): ReLU()\n",
            "    (norm): BatchNorm1d(50, eps=1e-05, momentum=0.1, affine=True, track_running_stats=True)\n",
            "    (dropout): Dropout(p=0.5, inplace=False)\n",
            "  )\n",
            "  (fc9): Customlinear(\n",
            "    (fc): Linear(in_features=50, out_features=20, bias=True)\n",
            "    (relu): ReLU()\n",
            "    (norm): BatchNorm1d(20, eps=1e-05, momentum=0.1, affine=True, track_running_stats=True)\n",
            "    (dropout): Dropout(p=0.5, inplace=False)\n",
            "  )\n",
            "  (fc10): Customlinear(\n",
            "    (fc): Linear(in_features=20, out_features=10, bias=True)\n",
            "    (relu): ReLU()\n",
            "    (norm): BatchNorm1d(10, eps=1e-05, momentum=0.1, affine=True, track_running_stats=True)\n",
            "    (dropout): Dropout(p=0.5, inplace=False)\n",
            "  )\n",
            ")\n"
          ],
          "name": "stdout"
        }
      ]
    },
    {
      "cell_type": "markdown",
      "metadata": {
        "id": "tqOYleNugmnC",
        "colab_type": "text"
      },
      "source": [
        "### 損失関数と最適化手法の定義"
      ]
    },
    {
      "cell_type": "code",
      "metadata": {
        "id": "3AkwFlEvgmnD",
        "colab_type": "code",
        "colab": {}
      },
      "source": [
        "import torch.nn as nn\n",
        "import torch.optim as optim\n",
        "\n",
        "criterion = nn.CrossEntropyLoss()\n",
        "optimizer = optim.Adam(net.parameters(), lr=0.005) # 微分の\"使い方\""
      ],
      "execution_count": 0,
      "outputs": []
    },
    {
      "cell_type": "markdown",
      "metadata": {
        "id": "nubobhXCgmnG",
        "colab_type": "text"
      },
      "source": [
        "### 学習する"
      ]
    },
    {
      "cell_type": "code",
      "metadata": {
        "id": "fnw0yhi8gmnH",
        "colab_type": "code",
        "outputId": "36f3d0c8-9b39-40f6-d612-95e3d516942c",
        "colab": {
          "base_uri": "https://localhost:8080/",
          "height": 1000
        }
      },
      "source": [
        "%%time\n",
        "net.train()\n",
        "running_losses = list()\n",
        "for epoch in range(20):  # loop over the dataset multiple times\n",
        "    running_loss = 0.0\n",
        "    for i, data in enumerate(trainloader, start=1): \n",
        "        # get the inputs\n",
        "        inputs, labels = data\n",
        "        inputs = try_gpu(inputs)\n",
        "        labels = try_gpu(labels)\n",
        "\n",
        "        # 計算していた逆伝播を0に戻す\n",
        "        optimizer.zero_grad()\n",
        "\n",
        "        # forward / backward / optimize\n",
        "        outputs = net(inputs)\n",
        "        loss = criterion(outputs, labels)  # データを損失関数に突っ込む\n",
        "        loss.backward()    # 誤差逆伝播(パラメータの変化の微分を計算)\n",
        "        optimizer.step()   # 最適化手法をもとにパラメータ更新\n",
        "\n",
        "        # print statistics\n",
        "        running_loss += loss.item()\n",
        "        if i % 100 == 0:    # print every 200 mini-batches (1バッチは100枚 trainデータは60000枚あるので600までいく)\n",
        "            running_loss_mean = running_loss / 100\n",
        "            print('%d epoch /%5d roop  loss: %.3f' %\n",
        "                  (epoch + 1, i, running_loss_mean))\n",
        "            running_losses.append(running_loss_mean)\n",
        "            running_loss = 0.0\n",
        "\n",
        "\n",
        "print('Finished Training')\n",
        "\n",
        "plt.plot(running_losses)\n",
        "plt.title(\"running loss\")\n",
        "plt.show()"
      ],
      "execution_count": 6,
      "outputs": [
        {
          "output_type": "stream",
          "text": [
            "1 epoch /  100 roop  loss: 2.718\n",
            "1 epoch /  200 roop  loss: 2.404\n",
            "1 epoch /  300 roop  loss: 2.354\n",
            "1 epoch /  400 roop  loss: 2.320\n",
            "1 epoch /  500 roop  loss: 2.255\n",
            "1 epoch /  600 roop  loss: 2.190\n",
            "2 epoch /  100 roop  loss: 2.140\n",
            "2 epoch /  200 roop  loss: 2.081\n",
            "2 epoch /  300 roop  loss: 2.016\n",
            "2 epoch /  400 roop  loss: 1.962\n",
            "2 epoch /  500 roop  loss: 1.916\n",
            "2 epoch /  600 roop  loss: 1.884\n",
            "3 epoch /  100 roop  loss: 1.821\n",
            "3 epoch /  200 roop  loss: 1.785\n",
            "3 epoch /  300 roop  loss: 1.759\n",
            "3 epoch /  400 roop  loss: 1.739\n",
            "3 epoch /  500 roop  loss: 1.712\n",
            "3 epoch /  600 roop  loss: 1.698\n",
            "4 epoch /  100 roop  loss: 1.667\n",
            "4 epoch /  200 roop  loss: 1.637\n",
            "4 epoch /  300 roop  loss: 1.629\n",
            "4 epoch /  400 roop  loss: 1.618\n",
            "4 epoch /  500 roop  loss: 1.589\n",
            "4 epoch /  600 roop  loss: 1.571\n",
            "5 epoch /  100 roop  loss: 1.531\n",
            "5 epoch /  200 roop  loss: 1.524\n",
            "5 epoch /  300 roop  loss: 1.516\n",
            "5 epoch /  400 roop  loss: 1.499\n",
            "5 epoch /  500 roop  loss: 1.477\n",
            "5 epoch /  600 roop  loss: 1.467\n",
            "6 epoch /  100 roop  loss: 1.451\n",
            "6 epoch /  200 roop  loss: 1.438\n",
            "6 epoch /  300 roop  loss: 1.430\n",
            "6 epoch /  400 roop  loss: 1.415\n",
            "6 epoch /  500 roop  loss: 1.432\n",
            "6 epoch /  600 roop  loss: 1.425\n",
            "7 epoch /  100 roop  loss: 1.375\n",
            "7 epoch /  200 roop  loss: 1.413\n",
            "7 epoch /  300 roop  loss: 1.380\n",
            "7 epoch /  400 roop  loss: 1.368\n",
            "7 epoch /  500 roop  loss: 1.347\n",
            "7 epoch /  600 roop  loss: 1.373\n",
            "8 epoch /  100 roop  loss: 1.358\n",
            "8 epoch /  200 roop  loss: 1.326\n",
            "8 epoch /  300 roop  loss: 1.341\n",
            "8 epoch /  400 roop  loss: 1.336\n",
            "8 epoch /  500 roop  loss: 1.276\n",
            "8 epoch /  600 roop  loss: 1.327\n",
            "9 epoch /  100 roop  loss: 1.318\n",
            "9 epoch /  200 roop  loss: 1.288\n",
            "9 epoch /  300 roop  loss: 1.328\n",
            "9 epoch /  400 roop  loss: 1.328\n",
            "9 epoch /  500 roop  loss: 1.297\n",
            "9 epoch /  600 roop  loss: 1.298\n",
            "10 epoch /  100 roop  loss: 1.308\n",
            "10 epoch /  200 roop  loss: 1.286\n",
            "10 epoch /  300 roop  loss: 1.292\n",
            "10 epoch /  400 roop  loss: 1.295\n",
            "10 epoch /  500 roop  loss: 1.290\n",
            "10 epoch /  600 roop  loss: 1.303\n",
            "11 epoch /  100 roop  loss: 1.270\n",
            "11 epoch /  200 roop  loss: 1.290\n",
            "11 epoch /  300 roop  loss: 1.277\n",
            "11 epoch /  400 roop  loss: 1.298\n",
            "11 epoch /  500 roop  loss: 1.284\n",
            "11 epoch /  600 roop  loss: 1.269\n",
            "12 epoch /  100 roop  loss: 1.285\n",
            "12 epoch /  200 roop  loss: 1.284\n",
            "12 epoch /  300 roop  loss: 1.269\n",
            "12 epoch /  400 roop  loss: 1.275\n",
            "12 epoch /  500 roop  loss: 1.266\n",
            "12 epoch /  600 roop  loss: 1.283\n",
            "13 epoch /  100 roop  loss: 1.286\n",
            "13 epoch /  200 roop  loss: 1.287\n",
            "13 epoch /  300 roop  loss: 1.267\n",
            "13 epoch /  400 roop  loss: 1.302\n",
            "13 epoch /  500 roop  loss: 1.305\n",
            "13 epoch /  600 roop  loss: 1.282\n",
            "14 epoch /  100 roop  loss: 1.274\n",
            "14 epoch /  200 roop  loss: 1.257\n",
            "14 epoch /  300 roop  loss: 1.271\n",
            "14 epoch /  400 roop  loss: 1.266\n",
            "14 epoch /  500 roop  loss: 1.262\n",
            "14 epoch /  600 roop  loss: 1.251\n",
            "15 epoch /  100 roop  loss: 1.244\n",
            "15 epoch /  200 roop  loss: 1.265\n",
            "15 epoch /  300 roop  loss: 1.261\n",
            "15 epoch /  400 roop  loss: 1.262\n",
            "15 epoch /  500 roop  loss: 1.244\n",
            "15 epoch /  600 roop  loss: 1.255\n",
            "16 epoch /  100 roop  loss: 1.257\n",
            "16 epoch /  200 roop  loss: 1.259\n",
            "16 epoch /  300 roop  loss: 1.268\n",
            "16 epoch /  400 roop  loss: 1.249\n",
            "16 epoch /  500 roop  loss: 1.250\n",
            "16 epoch /  600 roop  loss: 1.265\n",
            "17 epoch /  100 roop  loss: 1.258\n",
            "17 epoch /  200 roop  loss: 1.268\n",
            "17 epoch /  300 roop  loss: 1.242\n",
            "17 epoch /  400 roop  loss: 1.232\n",
            "17 epoch /  500 roop  loss: 1.241\n",
            "17 epoch /  600 roop  loss: 1.228\n",
            "18 epoch /  100 roop  loss: 1.246\n",
            "18 epoch /  200 roop  loss: 1.237\n",
            "18 epoch /  300 roop  loss: 1.236\n",
            "18 epoch /  400 roop  loss: 1.224\n",
            "18 epoch /  500 roop  loss: 1.221\n",
            "18 epoch /  600 roop  loss: 1.237\n",
            "19 epoch /  100 roop  loss: 1.244\n",
            "19 epoch /  200 roop  loss: 1.262\n",
            "19 epoch /  300 roop  loss: 1.230\n",
            "19 epoch /  400 roop  loss: 1.274\n",
            "19 epoch /  500 roop  loss: 1.245\n",
            "19 epoch /  600 roop  loss: 1.229\n",
            "20 epoch /  100 roop  loss: 1.224\n",
            "20 epoch /  200 roop  loss: 1.243\n",
            "20 epoch /  300 roop  loss: 1.222\n",
            "20 epoch /  400 roop  loss: 1.248\n",
            "20 epoch /  500 roop  loss: 1.254\n",
            "20 epoch /  600 roop  loss: 1.250\n",
            "Finished Training\n"
          ],
          "name": "stdout"
        },
        {
          "output_type": "display_data",
          "data": {
            "image/png": "[encoded data removed]",
            "text/plain": [
              "<Figure size 432x288 with 1 Axes>"
            ]
          },
          "metadata": {
            "tags": [],
            "image/png": {
              "width": 376,
              "height": 266
            }
          }
        },
        {
          "output_type": "stream",
          "text": [
            "CPU times: user 3min 47s, sys: 6.2 s, total: 3min 53s\n",
            "Wall time: 4min 37s\n"
          ],
          "name": "stdout"
        }
      ]
    },
    {
      "cell_type": "markdown",
      "metadata": {
        "id": "eZ2qUPtggmnL",
        "colab_type": "text"
      },
      "source": [
        "### 個別にテスト"
      ]
    },
    {
      "cell_type": "code",
      "metadata": {
        "id": "7yZ0UeAngmnM",
        "colab_type": "code",
        "outputId": "d899551c-12ac-4a9b-9ee9-8184468ca3ee",
        "colab": {
          "base_uri": "https://localhost:8080/",
          "height": 317
        }
      },
      "source": [
        "net.eval()\n",
        "each_testloader = torch.utils.data.DataLoader(testset, batch_size=1,\n",
        "                                          shuffle=True, num_workers=2)\n",
        "\n",
        "\n",
        "dataiter = iter(each_testloader) \n",
        "plt.figure(figsize=(10,5))\n",
        "with torch.no_grad(): # 学習のときのようなバックグラウンドでの勾配計算は不要なのでしない\n",
        "    for epoch in range(3*8):\n",
        "        image, label = dataiter.next() # each_testloader はバッチサイズを１にしたので1枚ずつ出てくる\n",
        "        image, label = try_gpu(image), try_gpu(label)\n",
        "        output = net(image)\n",
        "        _, predicted = torch.max(output, 1)\n",
        "        predicted = predicted.item() # tensor(pytorchでのデータ型)をpythonの数に直す\n",
        "        image = image.cpu().reshape(28, 28) \n",
        "        label = label.item() \n",
        "        plt.subplot(3, 8, epoch+1)\n",
        "        plt.imshow(image, cmap='gray')\n",
        "        if predicted == label:\n",
        "            plt.title(predicted, color='black')\n",
        "        else:\n",
        "            plt.title(predicted, color='red')\n",
        "    plt.show()\n"
      ],
      "execution_count": 7,
      "outputs": [
        {
          "output_type": "display_data",
          "data": {
            "image/png": "[encoded data removed]",
            "text/plain": [
              "<Figure size 720x360 with 24 Axes>"
            ]
          },
          "metadata": {
            "tags": [],
            "image/png": {
              "width": 597,
              "height": 300
            }
          }
        }
      ]
    },
    {
      "cell_type": "markdown",
      "metadata": {
        "id": "QQqTtS0sgmnO",
        "colab_type": "text"
      },
      "source": [
        "### 正解率を出す"
      ]
    },
    {
      "cell_type": "code",
      "metadata": {
        "id": "qoiZzdLegmnP",
        "colab_type": "code",
        "outputId": "65a3adf7-be40-4494-bcb3-b89473aed1b4",
        "colab": {
          "base_uri": "https://localhost:8080/",
          "height": 89
        }
      },
      "source": [
        "%%time\n",
        "net.eval()\n",
        "with torch.no_grad(): # 学習のときのようなバックグラウンドでの勾配計算は不要なのでしない\n",
        "    for txt, loader in zip(('Train', 'Test '), (trainloader, testloader)):\n",
        "        correct = 0\n",
        "        total = 0\n",
        "        for data in loader:\n",
        "            images, labels = data\n",
        "            images, labels = try_gpu(images), try_gpu(labels)\n",
        "            outputs = net(images)\n",
        "            _, predicted = torch.max(outputs.data, 1)\n",
        "            total += labels.size(0)\n",
        "            correct += (predicted == labels).sum().item()\n",
        "        print(f'{txt} Accuracy: {100 * correct / total} %')"
      ],
      "execution_count": 8,
      "outputs": [
        {
          "output_type": "stream",
          "text": [
            "Train Accuracy: 98.425 %\n",
            "Test  Accuracy: 98.5 %\n",
            "CPU times: user 2.64 s, sys: 387 ms, total: 3.03 s\n",
            "Wall time: 10.1 s\n"
          ],
          "name": "stdout"
        }
      ]
    }
  ]
}