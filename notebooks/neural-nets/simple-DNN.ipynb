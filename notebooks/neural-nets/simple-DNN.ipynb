{
 "cells": [
  {
   "cell_type": "markdown",
   "metadata": {},
   "source": [
    "# Simple DNN\n",
    "https://pytorch.org/tutorials/beginner/blitz/cifar10_tutorial.html#sphx-glr-beginner-blitz-cifar10-tutorial-py"
   ]
  },
  {
   "cell_type": "code",
   "execution_count": 1,
   "metadata": {},
   "outputs": [],
   "source": [
    "import numpy as np\n",
    "import matplotlib.pyplot as plt\n",
    "import torch\n",
    "import torchvision\n",
    "%matplotlib inline"
   ]
  },
  {
   "cell_type": "markdown",
   "metadata": {},
   "source": [
    "### データの読み込み"
   ]
  },
  {
   "cell_type": "code",
   "execution_count": 2,
   "metadata": {},
   "outputs": [],
   "source": [
    "import torch\n",
    "import torchvision\n",
    "import torchvision.transforms as transforms\n",
    "\n",
    "# 画像を読み込んだ時の変換関数を作る\n",
    "tfm = transforms.Compose([transforms.ToTensor(),\n",
    "                          transforms.Normalize((0,), (1,)),\n",
    "                         ])\n",
    "# それぞれのデータと読み込み方を指定\n",
    "trainset = torchvision.datasets.MNIST(root='../../data', train=True, download=True, transform=tfm)\n",
    "trainloader = torch.utils.data.DataLoader(trainset, batch_size=100,\n",
    "                                          shuffle=True, num_workers=2)\n",
    "\n",
    "testset = torchvision.datasets.MNIST(root='../../data', train=False, download=True, transform=tfm)\n",
    "testloader = torch.utils.data.DataLoader(testset, batch_size=100,\n",
    "                                          shuffle=True, num_workers=2)\n",
    "classes = tuple(range(10))"
   ]
  },
  {
   "cell_type": "markdown",
   "metadata": {},
   "source": [
    "### ネットワークを作る"
   ]
  },
  {
   "cell_type": "code",
   "execution_count": 3,
   "metadata": {},
   "outputs": [
    {
     "name": "stdout",
     "output_type": "stream",
     "text": [
      "Net(\n",
      "  (fc1): Linear(in_features=784, out_features=300, bias=True)\n",
      "  (fc2): Linear(in_features=300, out_features=100, bias=True)\n",
      "  (fc3): Linear(in_features=100, out_features=50, bias=True)\n",
      "  (fc4): Linear(in_features=50, out_features=20, bias=True)\n",
      "  (fc5): Linear(in_features=20, out_features=10, bias=True)\n",
      ")\n"
     ]
    }
   ],
   "source": [
    "import torch\n",
    "import torch.nn as nn\n",
    "import torch.nn.functional as F\n",
    "\n",
    "\n",
    "class Net(nn.Module):\n",
    "\n",
    "    def __init__(self):\n",
    "        super(Net, self).__init__()\n",
    "        self.fc1 = nn.Linear(28*28, 300)\n",
    "        self.fc2 = nn.Linear(300, 100)\n",
    "        self.fc3 = nn.Linear(100, 50)\n",
    "        self.fc4 = nn.Linear(50, 20)\n",
    "        self.fc5 = nn.Linear(20, 10)\n",
    "        self.layers = [self.fc1, self.fc2, self.fc3, self.fc4, self.fc5]\n",
    "        \n",
    "    def forward(self, x):\n",
    "        x = x.view(-1, 28*28)   # バッチを除いて1次元化 \n",
    "        for layer in self.layers:\n",
    "            x = F.relu(layer(x))\n",
    "        return x\n",
    "    \n",
    "\n",
    "net = Net()\n",
    "print(net)"
   ]
  },
  {
   "cell_type": "markdown",
   "metadata": {},
   "source": [
    "### 損失関数と最適化手法の定義"
   ]
  },
  {
   "cell_type": "code",
   "execution_count": 4,
   "metadata": {},
   "outputs": [],
   "source": [
    "import torch.nn as nn\n",
    "import torch.optim as optim\n",
    "\n",
    "criterion = nn.CrossEntropyLoss()\n",
    "optimizer = optim.Adam(net.parameters(), lr=0.001) # 微分の\"使い方\""
   ]
  },
  {
   "cell_type": "markdown",
   "metadata": {},
   "source": [
    "### 学習する"
   ]
  },
  {
   "cell_type": "code",
   "execution_count": 5,
   "metadata": {},
   "outputs": [
    {
     "name": "stdout",
     "output_type": "stream",
     "text": [
      "[1,   100] loss: 1.446\n",
      "[1,   200] loss: 0.697\n",
      "[1,   300] loss: 0.528\n",
      "[1,   400] loss: 0.462\n",
      "[1,   500] loss: 0.446\n",
      "[1,   600] loss: 0.416\n",
      "[2,   100] loss: 0.397\n",
      "[2,   200] loss: 0.369\n",
      "[2,   300] loss: 0.368\n",
      "[2,   400] loss: 0.348\n",
      "[2,   500] loss: 0.360\n",
      "[2,   600] loss: 0.351\n",
      "[3,   100] loss: 0.321\n",
      "[3,   200] loss: 0.331\n",
      "[3,   300] loss: 0.311\n",
      "[3,   400] loss: 0.310\n",
      "[3,   500] loss: 0.309\n",
      "[3,   600] loss: 0.325\n",
      "[4,   100] loss: 0.293\n",
      "[4,   200] loss: 0.286\n",
      "[4,   300] loss: 0.296\n",
      "[4,   400] loss: 0.300\n",
      "[4,   500] loss: 0.290\n",
      "[4,   600] loss: 0.297\n",
      "[5,   100] loss: 0.277\n",
      "[5,   200] loss: 0.273\n",
      "[5,   300] loss: 0.281\n",
      "[5,   400] loss: 0.272\n",
      "[5,   500] loss: 0.280\n",
      "[5,   600] loss: 0.300\n",
      "Finished Training\n"
     ]
    },
    {
     "ename": "TypeError",
     "evalue": "'Text' object is not callable",
     "output_type": "error",
     "traceback": [
      "\u001b[1;31m---------------------------------------------------------------------------\u001b[0m",
      "\u001b[1;31mTypeError\u001b[0m                                 Traceback (most recent call last)",
      "\u001b[1;32m<timed exec>\u001b[0m in \u001b[0;36m<module>\u001b[1;34m\u001b[0m\n",
      "\u001b[1;31mTypeError\u001b[0m: 'Text' object is not callable"
     ]
    },
    {
     "data": {
      "image/png": "[encoded data removed]",
      "text/plain": [
       "<Figure size 432x288 with 1 Axes>"
      ]
     },
     "metadata": {
      "needs_background": "light"
     },
     "output_type": "display_data"
    }
   ],
   "source": [
    "%%time\n",
    "running_losses = list()\n",
    "for epoch in range(5):  # loop over the dataset multiple times\n",
    "    running_loss = 0.0\n",
    "    for i, data in enumerate(trainloader, start=1): \n",
    "        # get the inputs\n",
    "        inputs, labels = data\n",
    "\n",
    "        # zero the parameter gradients\n",
    "        optimizer.zero_grad()\n",
    "\n",
    "        # forward + backward + optimize\n",
    "        outputs = net(inputs)\n",
    "        loss = criterion(outputs, labels)  # データを損失関数に突っ込む\n",
    "        loss.backward()    # 誤差逆伝播(パラメータの変化の微分を計算)\n",
    "        optimizer.step()   # 最適化手法をもとにパラメータ更新\n",
    "\n",
    "        # print statistics\n",
    "        running_loss += loss.item()\n",
    "        if i % 100 == 0:    # print every 100 mini-batches (1バッチは100枚 trainデータは60000枚あるので600までいく)\n",
    "            running_loss_mean = running_loss / 100\n",
    "            print('[%d, %5d] loss: %.3f' %\n",
    "                  (epoch + 1, i, running_loss_mean))\n",
    "            running_losses.append(running_loss_mean)\n",
    "            running_loss = 0.0\n",
    "\n",
    "\n",
    "print('Finished Training')\n",
    "f = plt.figure()\n",
    "ax = f.add_subplot(111)\n",
    "ax.plot(running_losses)\n",
    "ax.add_title(\"損失関数の変化\")\n",
    "plt.show()"
   ]
  },
  {
   "cell_type": "code",
   "execution_count": null,
   "metadata": {},
   "outputs": [],
   "source": []
  }
 ],
 "metadata": {
  "kernelspec": {
   "display_name": "Python 3",
   "language": "python",
   "name": "python3"
  },
  "language_info": {
   "codemirror_mode": {
    "name": "ipython",
    "version": 3
   },
   "file_extension": ".py",
   "mimetype": "text/x-python",
   "name": "python",
   "nbconvert_exporter": "python",
   "pygments_lexer": "ipython3",
   "version": "3.7.2"
  }
 },
 "nbformat": 4,
 "nbformat_minor": 2
}
