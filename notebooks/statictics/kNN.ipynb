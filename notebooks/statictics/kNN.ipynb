{
 "cells": [
  {
   "cell_type": "markdown",
   "metadata": {},
   "source": [
    "# k 近傍法による分類\n",
    "k Nearest Neighbor"
   ]
  },
  {
   "cell_type": "code",
   "execution_count": 1,
   "metadata": {},
   "outputs": [],
   "source": [
    "import numpy as np\n",
    "import matplotlib\n",
    "import matplotlib.pyplot as plt\n",
    "import pandas as pd\n",
    "from IPython.display import display\n",
    "import csv\n",
    "\n",
    "%matplotlib inline\n",
    "%config InlineBackend.figure_formats = {'png', 'retina'}"
   ]
  },
  {
   "cell_type": "code",
   "execution_count": 2,
   "metadata": {},
   "outputs": [],
   "source": [
    "DATADIR = '../../data/MNIST/raw/'\n",
    "\n",
    "trainimg_path = DATADIR + 'train-images-idx3-ubyte'\n",
    "trainlabel_path = DATADIR + 'train-labels-idx1-ubyte'\n",
    "testimg_path = DATADIR + 't10k-images-idx3-ubyte'\n",
    "testlabel_path = DATADIR + 't10k-labels-idx1-ubyte'"
   ]
  },
  {
   "cell_type": "code",
   "execution_count": 3,
   "metadata": {},
   "outputs": [],
   "source": [
    "def load_img(path):\n",
    "    with open(path, 'rb') as f:\n",
    "        data = np.frombuffer(f.read(), np.uint8, offset=16)\n",
    "    data = data.reshape(-1, 28**2) / 255.0\n",
    "    return data\n",
    "\n",
    "def load_label(path):\n",
    "    with open(path, 'rb') as f:\n",
    "        label = np.frombuffer(f.read(), np.uint8, offset=8)\n",
    "    return label"
   ]
  },
  {
   "cell_type": "code",
   "execution_count": 4,
   "metadata": {},
   "outputs": [],
   "source": [
    "trainimgs = load_img(trainimg_path)\n",
    "trainlabels = load_label(trainlabel_path)\n",
    "testimgs = load_img(testimg_path)\n",
    "testlabels = load_label(testlabel_path)\n",
    "SAVEPATH = '../../data/parameters/else/kNN.csv'"
   ]
  },
  {
   "cell_type": "markdown",
   "metadata": {},
   "source": [
    "### l^2 ノルム"
   ]
  },
  {
   "cell_type": "code",
   "execution_count": null,
   "metadata": {},
   "outputs": [],
   "source": [
    "%%time\n",
    "from sklearn.neighbors import KNeighborsClassifier\n",
    "\n",
    "params = [1, 2, 3, 4, 5, 10, 20, 50, 100, 1000]\n",
    "score = list()\n",
    "for p in params:\n",
    "    neigh = KNeighborsClassifier(n_neighbors=p, n_jobs=-1)\n",
    "    neigh.fit(trainimgs, trainlabels)\n",
    "    prob = neigh.score(testimgs, testlabels)\n",
    "    score.append(prob)\n",
    "    print(f'param {p} is completed: score {prob}')\n",
    "    with open(SAVEPATH, 'a') as f:\n",
    "        writer = csv.writer(f)\n",
    "        writer.writerow(['l2', p, prob])\n",
    "\n",
    "display(pd.DataFrame([params, score]))\n",
    "plt.plot(params, score)\n",
    "plt.show()"
   ]
  },
  {
   "cell_type": "markdown",
   "metadata": {},
   "source": [
    "### Mahalanobis 距離"
   ]
  },
  {
   "cell_type": "code",
   "execution_count": null,
   "metadata": {},
   "outputs": [],
   "source": [
    "%%time\n",
    "\n",
    "# covariance # 逆行列の保証 \n",
    "V = np.cov(trainimgs.T) + 1e-6 * np.identity(28**2)\n",
    "VI = np.linalg.inv(V)\n",
    "\n",
    "\n",
    "from sklearn.neighbors import KNeighborsClassifier\n",
    "\n",
    "params = [1, 2, 3, 4, 5, 10, 20, 50, 100, 1000]\n",
    "score = list()\n",
    "for p in params:\n",
    "    neigh = KNeighborsClassifier(n_neighbors=p, metric=\"mahalanobis\", metric_params={'VI': VI}, n_jobs=-1)\n",
    "    neigh.fit(trainimgs, trainlabels)\n",
    "    prob = neigh.score(testimgs, testlabels)\n",
    "    score.append(prob)\n",
    "    print(f'param {p} is completed: score {prob}')\n",
    "    with open(SAVEPATH, 'a') as f:\n",
    "        writer = csv.writer(f)\n",
    "        writer.writerow(['maha', p, prob])\n",
    "\n",
    "display(pd.DataFrame([params, score]))\n",
    "plt.plot(params, score)\n",
    "plt.show()"
   ]
  },
  {
   "cell_type": "code",
   "execution_count": null,
   "metadata": {},
   "outputs": [],
   "source": []
  }
 ],
 "metadata": {
  "kernelspec": {
   "display_name": "Python 3",
   "language": "python",
   "name": "python3"
  },
  "language_info": {
   "codemirror_mode": {
    "name": "ipython",
    "version": 3
   },
   "file_extension": ".py",
   "mimetype": "text/x-python",
   "name": "python",
   "nbconvert_exporter": "python",
   "pygments_lexer": "ipython3",
   "version": "3.7.2"
  }
 },
 "nbformat": 4,
 "nbformat_minor": 2
}
