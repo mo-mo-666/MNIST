{
 "cells": [
  {
   "cell_type": "markdown",
   "metadata": {},
   "source": [
    "# k 近傍法による分類\n",
    "k Nearest Neighbor"
   ]
  },
  {
   "cell_type": "code",
   "execution_count": 1,
   "metadata": {},
   "outputs": [],
   "source": [
    "import numpy as np\n",
    "import matplotlib\n",
    "import matplotlib.pyplot as plt\n",
    "import pandas as pd\n",
    "from IPython.display import display\n",
    "\n",
    "%matplotlib inline\n",
    "%config InlineBackend.figure_formats = {'png', 'retina'}"
   ]
  },
  {
   "cell_type": "code",
   "execution_count": 2,
   "metadata": {},
   "outputs": [],
   "source": [
    "DATADIR = '../../data/MNIST/raw/'\n",
    "\n",
    "trainimg_path = DATADIR + 'train-images-idx3-ubyte'\n",
    "trainlabel_path = DATADIR + 'train-labels-idx1-ubyte'\n",
    "testimg_path = DATADIR + 't10k-images-idx3-ubyte'\n",
    "testlabel_path = DATADIR + 't10k-labels-idx1-ubyte'"
   ]
  },
  {
   "cell_type": "code",
   "execution_count": 3,
   "metadata": {},
   "outputs": [],
   "source": [
    "def load_img(path):\n",
    "    with open(path, 'rb') as f:\n",
    "        data = np.frombuffer(f.read(), np.uint8, offset=16)\n",
    "    data = data.reshape(-1, 28**2)\n",
    "    return data\n",
    "\n",
    "def load_label(path):\n",
    "    with open(path, 'rb') as f:\n",
    "        label = np.frombuffer(f.read(), np.uint8, offset=8)\n",
    "    return label"
   ]
  },
  {
   "cell_type": "code",
   "execution_count": 4,
   "metadata": {},
   "outputs": [],
   "source": [
    "trainimgs = load_img(trainimg_path)\n",
    "trainlabels = load_label(trainlabel_path)\n",
    "testimgs = load_img(testimg_path)\n",
    "testlabels = load_label(testlabel_path)"
   ]
  },
  {
   "cell_type": "code",
   "execution_count": 5,
   "metadata": {},
   "outputs": [
    {
     "name": "stdout",
     "output_type": "stream",
     "text": [
      "param 1 is completed: score 0.9691\n",
      "param 3 is completed: score 0.9705\n",
      "param 5 is completed: score 0.9688\n",
      "param 10 is completed: score 0.9665\n",
      "param 20 is completed: score 0.9625\n",
      "param 50 is completed: score 0.9534\n",
      "param 100 is completed: score 0.944\n",
      "param 300 is completed: score 0.9179\n",
      "param 500 is completed: score 0.9039\n",
      "param 1000 is completed: score 0.8731\n",
      "param 10000 is completed: score 0.6494\n"
     ]
    },
    {
     "data": {
      "text/html": [
       "<div>\n",
       "<style scoped>\n",
       "    .dataframe tbody tr th:only-of-type {\n",
       "        vertical-align: middle;\n",
       "    }\n",
       "\n",
       "    .dataframe tbody tr th {\n",
       "        vertical-align: top;\n",
       "    }\n",
       "\n",
       "    .dataframe thead th {\n",
       "        text-align: right;\n",
       "    }\n",
       "</style>\n",
       "<table border=\"1\" class=\"dataframe\">\n",
       "  <thead>\n",
       "    <tr style=\"text-align: right;\">\n",
       "      <th></th>\n",
       "      <th>0</th>\n",
       "      <th>1</th>\n",
       "      <th>2</th>\n",
       "      <th>3</th>\n",
       "      <th>4</th>\n",
       "      <th>5</th>\n",
       "      <th>6</th>\n",
       "      <th>7</th>\n",
       "      <th>8</th>\n",
       "      <th>9</th>\n",
       "      <th>10</th>\n",
       "    </tr>\n",
       "  </thead>\n",
       "  <tbody>\n",
       "    <tr>\n",
       "      <th>0</th>\n",
       "      <td>1.0000</td>\n",
       "      <td>3.0000</td>\n",
       "      <td>5.0000</td>\n",
       "      <td>10.0000</td>\n",
       "      <td>20.0000</td>\n",
       "      <td>50.0000</td>\n",
       "      <td>100.000</td>\n",
       "      <td>300.0000</td>\n",
       "      <td>500.0000</td>\n",
       "      <td>1000.0000</td>\n",
       "      <td>10000.0000</td>\n",
       "    </tr>\n",
       "    <tr>\n",
       "      <th>1</th>\n",
       "      <td>0.9691</td>\n",
       "      <td>0.9705</td>\n",
       "      <td>0.9688</td>\n",
       "      <td>0.9665</td>\n",
       "      <td>0.9625</td>\n",
       "      <td>0.9534</td>\n",
       "      <td>0.944</td>\n",
       "      <td>0.9179</td>\n",
       "      <td>0.9039</td>\n",
       "      <td>0.8731</td>\n",
       "      <td>0.6494</td>\n",
       "    </tr>\n",
       "  </tbody>\n",
       "</table>\n",
       "</div>"
      ],
      "text/plain": [
       "       0       1       2        3        4        5        6         7   \\\n",
       "0  1.0000  3.0000  5.0000  10.0000  20.0000  50.0000  100.000  300.0000   \n",
       "1  0.9691  0.9705  0.9688   0.9665   0.9625   0.9534    0.944    0.9179   \n",
       "\n",
       "         8          9           10  \n",
       "0  500.0000  1000.0000  10000.0000  \n",
       "1    0.9039     0.8731      0.6494  "
      ]
     },
     "metadata": {},
     "output_type": "display_data"
    },
    {
     "data": {
      "image/png": "[encoded data removed]",
      "text/plain": [
       "<Figure size 432x288 with 1 Axes>"
      ]
     },
     "metadata": {
      "image/png": {
       "height": 250,
       "width": 380
      },
      "needs_background": "light"
     },
     "output_type": "display_data"
    },
    {
     "name": "stdout",
     "output_type": "stream",
     "text": [
      "Wall time: 2h 47min 45s\n"
     ]
    }
   ],
   "source": [
    "%%time\n",
    "from sklearn.neighbors import KNeighborsClassifier\n",
    "\n",
    "params = [1, 3, 5, 10, 20, 50, 100, 300, 500, 1000, 10000]\n",
    "score = list()\n",
    "for p in params:\n",
    "    neigh = KNeighborsClassifier(n_neighbors=p)\n",
    "    neigh.fit(trainimgs, trainlabels)\n",
    "    prob = neigh.score(testimgs, testlabels)\n",
    "    score.append(prob)\n",
    "    print(f'param {p} is completed: score {prob}')\n",
    "\n",
    "display(pd.DataFrame([params, score]))\n",
    "plt.plot(params, score)\n",
    "plt.show()"
   ]
  }
 ],
 "metadata": {
  "kernelspec": {
   "display_name": "Python 3",
   "language": "python",
   "name": "python3"
  },
  "language_info": {
   "codemirror_mode": {
    "name": "ipython",
    "version": 3
   },
   "file_extension": ".py",
   "mimetype": "text/x-python",
   "name": "python",
   "nbconvert_exporter": "python",
   "pygments_lexer": "ipython3",
   "version": "3.7.2"
  }
 },
 "nbformat": 4,
 "nbformat_minor": 2
}
