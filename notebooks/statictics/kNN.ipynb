{
 "cells": [
  {
   "cell_type": "markdown",
   "metadata": {},
   "source": [
    "# k 近傍法による分類\n",
    "k Nearest Neighbor"
   ]
  },
  {
   "cell_type": "code",
   "execution_count": 1,
   "metadata": {},
   "outputs": [],
   "source": [
    "import numpy as np\n",
    "import matplotlib\n",
    "import matplotlib.pyplot as plt\n",
    "import pandas\n",
    "\n",
    "%matplotlib inline\n",
    "%config InlineBackend.figure_formats = {'png', 'retina'}"
   ]
  },
  {
   "cell_type": "code",
   "execution_count": 2,
   "metadata": {},
   "outputs": [],
   "source": [
    "DATADIR = '../../data/MNIST/raw/'\n",
    "\n",
    "trainimg_path = DATADIR + 'train-images-idx3-ubyte'\n",
    "trainlabel_path = DATADIR + 'train-labels-idx1-ubyte'\n",
    "testimg_path = DATADIR + 't10k-images-idx3-ubyte'\n",
    "testlabel_path = DATADIR + 't10k-labels-idx1-ubyte'"
   ]
  },
  {
   "cell_type": "code",
   "execution_count": 3,
   "metadata": {},
   "outputs": [],
   "source": [
    "def load_img(path):\n",
    "    with open(path, 'rb') as f:\n",
    "        data = np.frombuffer(f.read(), np.uint8, offset=16)\n",
    "    data = data.reshape(-1, 28**2)\n",
    "    return data\n",
    "\n",
    "def load_label(path):\n",
    "    with open(path, 'rb') as f:\n",
    "        label = np.frombuffer(f.read(), np.uint8, offset=8)\n",
    "    return label"
   ]
  },
  {
   "cell_type": "code",
   "execution_count": 6,
   "metadata": {},
   "outputs": [],
   "source": [
    "trainimgs = load_img(trainimg_path)\n",
    "trainlabels = load_label(trainlabel_path)\n",
    "testimgs = load_img(testimg_path)\n",
    "testlabels = load_label(testlabel_path)"
   ]
  },
  {
   "cell_type": "code",
   "execution_count": 17,
   "metadata": {},
   "outputs": [
    {
     "name": "stdout",
     "output_type": "stream",
     "text": [
      "1.0\n",
      "Wall time: 38.1 s\n"
     ]
    }
   ],
   "source": [
    "%%time\n",
    "from sklearn.neighbors import KNeighborsClassifier\n",
    "\n",
    "params = [1, 3, 5, 10, 20, 50, 100, 1000, 10000]\n",
    "score = list()\n",
    "for p in params[:1]:\n",
    "    neigh = KNeighborsClassifier(n_neighbors=p)\n",
    "    neigh.fit(trainimgs, trainlabels)\n",
    "    prob = neigh.score(testimgs[:10], testlabels[:10])\n",
    "    score.append(prob)\n",
    "\n",
    "pd.DataFrame([params, prob])\n",
    "plt.plot(params, prob)\n",
    "plt.show()"
   ]
  },
  {
   "cell_type": "code",
   "execution_count": 15,
   "metadata": {},
   "outputs": [
    {
     "name": "stdout",
     "output_type": "stream",
     "text": [
      "[7 1 1 0 4 1 4 9 1 7 0 1 9 0 1 1 9 7 3 4 7 6 1 5 4 0 7 4 0 1 1 1 3 6 7 2 7\n",
      " 1 1 1 1 7 9 1 1 3 1 1 9 4 6 3 5 1 1 8 4 1 9 1 7 8 9 1 7 9 1 4 3 0 7 0 3 1\n",
      " 1 1 1 7 1 7 9 6 2 7 1 4 7 3 6 1 3 6 1 3 1 4 1 1 6 9]\n",
      "Wall time: 10.8 s\n"
     ]
    }
   ],
   "source": [
    "%%time\n",
    "\n",
    "predlabels = neigh.predict(testimgs[:100])\n",
    "print(predlabels)"
   ]
  },
  {
   "cell_type": "code",
   "execution_count": 16,
   "metadata": {},
   "outputs": [
    {
     "name": "stdout",
     "output_type": "stream",
     "text": [
      "prob: 67 %\n"
     ]
    }
   ],
   "source": [
    "prob = np.sum(testlabels[:100] == predlabels)\n",
    "print(f'prob: {prob} %')"
   ]
  },
  {
   "cell_type": "code",
   "execution_count": null,
   "metadata": {},
   "outputs": [],
   "source": []
  }
 ],
 "metadata": {
  "kernelspec": {
   "display_name": "Python 3",
   "language": "python",
   "name": "python3"
  },
  "language_info": {
   "codemirror_mode": {
    "name": "ipython",
    "version": 3
   },
   "file_extension": ".py",
   "mimetype": "text/x-python",
   "name": "python",
   "nbconvert_exporter": "python",
   "pygments_lexer": "ipython3",
   "version": "3.7.2"
  }
 },
 "nbformat": 4,
 "nbformat_minor": 2
}
