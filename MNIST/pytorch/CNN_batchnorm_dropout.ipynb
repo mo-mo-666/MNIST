{
  "nbformat": 4,
  "nbformat_minor": 0,
  "metadata": {
    "kernelspec": {
      "name": "python3",
      "display_name": "Python 3"
    },
    "language_info": {
      "codemirror_mode": {
        "name": "ipython",
        "version": 3
      },
      "file_extension": ".py",
      "mimetype": "text/x-python",
      "name": "python",
      "nbconvert_exporter": "python",
      "pygments_lexer": "ipython3",
      "version": "3.7.2"
    },
    "colab": {
      "name": "CNN-batchnorm-dropout.ipynb",
      "provenance": [],
      "collapsed_sections": []
    },
    "accelerator": "GPU",
    "widgets": {
      "application/vnd.jupyter.widget-state+json": {
        "1e9ca702d3534360a5a5bf931daa5d79": {
          "model_module": "@jupyter-widgets/controls",
          "model_name": "HBoxModel",
          "state": {
            "_view_name": "HBoxView",
            "_dom_classes": [],
            "_model_name": "HBoxModel",
            "_view_module": "@jupyter-widgets/controls",
            "_model_module_version": "1.5.0",
            "_view_count": null,
            "_view_module_version": "1.5.0",
            "box_style": "",
            "layout": "IPY_MODEL_94ecbc2b59454381964c84290309ecba",
            "_model_module": "@jupyter-widgets/controls",
            "children": [
              "IPY_MODEL_878b9fdc25404b018fb894275da2d2c5",
              "IPY_MODEL_76ee398121f84c60aaf5983e79da56cb"
            ]
          }
        },
        "94ecbc2b59454381964c84290309ecba": {
          "model_module": "@jupyter-widgets/base",
          "model_name": "LayoutModel",
          "state": {
            "_view_name": "LayoutView",
            "grid_template_rows": null,
            "right": null,
            "justify_content": null,
            "_view_module": "@jupyter-widgets/base",
            "overflow": null,
            "_model_module_version": "1.2.0",
            "_view_count": null,
            "flex_flow": null,
            "width": null,
            "min_width": null,
            "border": null,
            "align_items": null,
            "bottom": null,
            "_model_module": "@jupyter-widgets/base",
            "top": null,
            "grid_column": null,
            "overflow_y": null,
            "overflow_x": null,
            "grid_auto_flow": null,
            "grid_area": null,
            "grid_template_columns": null,
            "flex": null,
            "_model_name": "LayoutModel",
            "justify_items": null,
            "grid_row": null,
            "max_height": null,
            "align_content": null,
            "visibility": null,
            "align_self": null,
            "height": null,
            "min_height": null,
            "padding": null,
            "grid_auto_rows": null,
            "grid_gap": null,
            "max_width": null,
            "order": null,
            "_view_module_version": "1.2.0",
            "grid_template_areas": null,
            "object_position": null,
            "object_fit": null,
            "grid_auto_columns": null,
            "margin": null,
            "display": null,
            "left": null
          }
        },
        "878b9fdc25404b018fb894275da2d2c5": {
          "model_module": "@jupyter-widgets/controls",
          "model_name": "IntProgressModel",
          "state": {
            "_view_name": "ProgressView",
            "style": "IPY_MODEL_14c099eec8ec40a8b7ad86a67f7cc1fb",
            "_dom_classes": [],
            "description": "",
            "_model_name": "IntProgressModel",
            "bar_style": "success",
            "max": 1,
            "_view_module": "@jupyter-widgets/controls",
            "_model_module_version": "1.5.0",
            "value": 1,
            "_view_count": null,
            "_view_module_version": "1.5.0",
            "orientation": "horizontal",
            "min": 0,
            "description_tooltip": null,
            "_model_module": "@jupyter-widgets/controls",
            "layout": "IPY_MODEL_7a0a46b870954aec875713eeccc1241b"
          }
        },
        "76ee398121f84c60aaf5983e79da56cb": {
          "model_module": "@jupyter-widgets/controls",
          "model_name": "HTMLModel",
          "state": {
            "_view_name": "HTMLView",
            "style": "IPY_MODEL_ca53f227ecb14085925625781045cd61",
            "_dom_classes": [],
            "description": "",
            "_model_name": "HTMLModel",
            "placeholder": "​",
            "_view_module": "@jupyter-widgets/controls",
            "_model_module_version": "1.5.0",
            "value": "9920512it [00:00, 9968817.09it/s]",
            "_view_count": null,
            "_view_module_version": "1.5.0",
            "description_tooltip": null,
            "_model_module": "@jupyter-widgets/controls",
            "layout": "IPY_MODEL_cd5feb6931c04b3db7b1efb17c6cecc1"
          }
        },
        "14c099eec8ec40a8b7ad86a67f7cc1fb": {
          "model_module": "@jupyter-widgets/controls",
          "model_name": "ProgressStyleModel",
          "state": {
            "_view_name": "StyleView",
            "_model_name": "ProgressStyleModel",
            "description_width": "",
            "_view_module": "@jupyter-widgets/base",
            "_model_module_version": "1.5.0",
            "_view_count": null,
            "_view_module_version": "1.2.0",
            "bar_color": null,
            "_model_module": "@jupyter-widgets/controls"
          }
        },
        "7a0a46b870954aec875713eeccc1241b": {
          "model_module": "@jupyter-widgets/base",
          "model_name": "LayoutModel",
          "state": {
            "_view_name": "LayoutView",
            "grid_template_rows": null,
            "right": null,
            "justify_content": null,
            "_view_module": "@jupyter-widgets/base",
            "overflow": null,
            "_model_module_version": "1.2.0",
            "_view_count": null,
            "flex_flow": null,
            "width": null,
            "min_width": null,
            "border": null,
            "align_items": null,
            "bottom": null,
            "_model_module": "@jupyter-widgets/base",
            "top": null,
            "grid_column": null,
            "overflow_y": null,
            "overflow_x": null,
            "grid_auto_flow": null,
            "grid_area": null,
            "grid_template_columns": null,
            "flex": null,
            "_model_name": "LayoutModel",
            "justify_items": null,
            "grid_row": null,
            "max_height": null,
            "align_content": null,
            "visibility": null,
            "align_self": null,
            "height": null,
            "min_height": null,
            "padding": null,
            "grid_auto_rows": null,
            "grid_gap": null,
            "max_width": null,
            "order": null,
            "_view_module_version": "1.2.0",
            "grid_template_areas": null,
            "object_position": null,
            "object_fit": null,
            "grid_auto_columns": null,
            "margin": null,
            "display": null,
            "left": null
          }
        },
        "ca53f227ecb14085925625781045cd61": {
          "model_module": "@jupyter-widgets/controls",
          "model_name": "DescriptionStyleModel",
          "state": {
            "_view_name": "StyleView",
            "_model_name": "DescriptionStyleModel",
            "description_width": "",
            "_view_module": "@jupyter-widgets/base",
            "_model_module_version": "1.5.0",
            "_view_count": null,
            "_view_module_version": "1.2.0",
            "_model_module": "@jupyter-widgets/controls"
          }
        },
        "cd5feb6931c04b3db7b1efb17c6cecc1": {
          "model_module": "@jupyter-widgets/base",
          "model_name": "LayoutModel",
          "state": {
            "_view_name": "LayoutView",
            "grid_template_rows": null,
            "right": null,
            "justify_content": null,
            "_view_module": "@jupyter-widgets/base",
            "overflow": null,
            "_model_module_version": "1.2.0",
            "_view_count": null,
            "flex_flow": null,
            "width": null,
            "min_width": null,
            "border": null,
            "align_items": null,
            "bottom": null,
            "_model_module": "@jupyter-widgets/base",
            "top": null,
            "grid_column": null,
            "overflow_y": null,
            "overflow_x": null,
            "grid_auto_flow": null,
            "grid_area": null,
            "grid_template_columns": null,
            "flex": null,
            "_model_name": "LayoutModel",
            "justify_items": null,
            "grid_row": null,
            "max_height": null,
            "align_content": null,
            "visibility": null,
            "align_self": null,
            "height": null,
            "min_height": null,
            "padding": null,
            "grid_auto_rows": null,
            "grid_gap": null,
            "max_width": null,
            "order": null,
            "_view_module_version": "1.2.0",
            "grid_template_areas": null,
            "object_position": null,
            "object_fit": null,
            "grid_auto_columns": null,
            "margin": null,
            "display": null,
            "left": null
          }
        },
        "7899e96481c74a8aab995a7dde334652": {
          "model_module": "@jupyter-widgets/controls",
          "model_name": "HBoxModel",
          "state": {
            "_view_name": "HBoxView",
            "_dom_classes": [],
            "_model_name": "HBoxModel",
            "_view_module": "@jupyter-widgets/controls",
            "_model_module_version": "1.5.0",
            "_view_count": null,
            "_view_module_version": "1.5.0",
            "box_style": "",
            "layout": "IPY_MODEL_71ed3016e0e74fc99e873e983bfb9ab3",
            "_model_module": "@jupyter-widgets/controls",
            "children": [
              "IPY_MODEL_ab2f484eed194e7cb71c982b6c1c82b6",
              "IPY_MODEL_d77369b132eb4c05a19602834dcb4a72"
            ]
          }
        },
        "71ed3016e0e74fc99e873e983bfb9ab3": {
          "model_module": "@jupyter-widgets/base",
          "model_name": "LayoutModel",
          "state": {
            "_view_name": "LayoutView",
            "grid_template_rows": null,
            "right": null,
            "justify_content": null,
            "_view_module": "@jupyter-widgets/base",
            "overflow": null,
            "_model_module_version": "1.2.0",
            "_view_count": null,
            "flex_flow": null,
            "width": null,
            "min_width": null,
            "border": null,
            "align_items": null,
            "bottom": null,
            "_model_module": "@jupyter-widgets/base",
            "top": null,
            "grid_column": null,
            "overflow_y": null,
            "overflow_x": null,
            "grid_auto_flow": null,
            "grid_area": null,
            "grid_template_columns": null,
            "flex": null,
            "_model_name": "LayoutModel",
            "justify_items": null,
            "grid_row": null,
            "max_height": null,
            "align_content": null,
            "visibility": null,
            "align_self": null,
            "height": null,
            "min_height": null,
            "padding": null,
            "grid_auto_rows": null,
            "grid_gap": null,
            "max_width": null,
            "order": null,
            "_view_module_version": "1.2.0",
            "grid_template_areas": null,
            "object_position": null,
            "object_fit": null,
            "grid_auto_columns": null,
            "margin": null,
            "display": null,
            "left": null
          }
        },
        "ab2f484eed194e7cb71c982b6c1c82b6": {
          "model_module": "@jupyter-widgets/controls",
          "model_name": "IntProgressModel",
          "state": {
            "_view_name": "ProgressView",
            "style": "IPY_MODEL_f57639568d9f43708c7082c768e6d7cf",
            "_dom_classes": [],
            "description": "",
            "_model_name": "IntProgressModel",
            "bar_style": "success",
            "max": 1,
            "_view_module": "@jupyter-widgets/controls",
            "_model_module_version": "1.5.0",
            "value": 1,
            "_view_count": null,
            "_view_module_version": "1.5.0",
            "orientation": "horizontal",
            "min": 0,
            "description_tooltip": null,
            "_model_module": "@jupyter-widgets/controls",
            "layout": "IPY_MODEL_c69f015ff0e54f2ebd90f8c78b5d5819"
          }
        },
        "d77369b132eb4c05a19602834dcb4a72": {
          "model_module": "@jupyter-widgets/controls",
          "model_name": "HTMLModel",
          "state": {
            "_view_name": "HTMLView",
            "style": "IPY_MODEL_6ae728cc290f49d3837951dec12a0890",
            "_dom_classes": [],
            "description": "",
            "_model_name": "HTMLModel",
            "placeholder": "​",
            "_view_module": "@jupyter-widgets/controls",
            "_model_module_version": "1.5.0",
            "value": "32768it [00:00, 148603.54it/s]",
            "_view_count": null,
            "_view_module_version": "1.5.0",
            "description_tooltip": null,
            "_model_module": "@jupyter-widgets/controls",
            "layout": "IPY_MODEL_596384931b754fa0a82dd73f03f94600"
          }
        },
        "f57639568d9f43708c7082c768e6d7cf": {
          "model_module": "@jupyter-widgets/controls",
          "model_name": "ProgressStyleModel",
          "state": {
            "_view_name": "StyleView",
            "_model_name": "ProgressStyleModel",
            "description_width": "",
            "_view_module": "@jupyter-widgets/base",
            "_model_module_version": "1.5.0",
            "_view_count": null,
            "_view_module_version": "1.2.0",
            "bar_color": null,
            "_model_module": "@jupyter-widgets/controls"
          }
        },
        "c69f015ff0e54f2ebd90f8c78b5d5819": {
          "model_module": "@jupyter-widgets/base",
          "model_name": "LayoutModel",
          "state": {
            "_view_name": "LayoutView",
            "grid_template_rows": null,
            "right": null,
            "justify_content": null,
            "_view_module": "@jupyter-widgets/base",
            "overflow": null,
            "_model_module_version": "1.2.0",
            "_view_count": null,
            "flex_flow": null,
            "width": null,
            "min_width": null,
            "border": null,
            "align_items": null,
            "bottom": null,
            "_model_module": "@jupyter-widgets/base",
            "top": null,
            "grid_column": null,
            "overflow_y": null,
            "overflow_x": null,
            "grid_auto_flow": null,
            "grid_area": null,
            "grid_template_columns": null,
            "flex": null,
            "_model_name": "LayoutModel",
            "justify_items": null,
            "grid_row": null,
            "max_height": null,
            "align_content": null,
            "visibility": null,
            "align_self": null,
            "height": null,
            "min_height": null,
            "padding": null,
            "grid_auto_rows": null,
            "grid_gap": null,
            "max_width": null,
            "order": null,
            "_view_module_version": "1.2.0",
            "grid_template_areas": null,
            "object_position": null,
            "object_fit": null,
            "grid_auto_columns": null,
            "margin": null,
            "display": null,
            "left": null
          }
        },
        "6ae728cc290f49d3837951dec12a0890": {
          "model_module": "@jupyter-widgets/controls",
          "model_name": "DescriptionStyleModel",
          "state": {
            "_view_name": "StyleView",
            "_model_name": "DescriptionStyleModel",
            "description_width": "",
            "_view_module": "@jupyter-widgets/base",
            "_model_module_version": "1.5.0",
            "_view_count": null,
            "_view_module_version": "1.2.0",
            "_model_module": "@jupyter-widgets/controls"
          }
        },
        "596384931b754fa0a82dd73f03f94600": {
          "model_module": "@jupyter-widgets/base",
          "model_name": "LayoutModel",
          "state": {
            "_view_name": "LayoutView",
            "grid_template_rows": null,
            "right": null,
            "justify_content": null,
            "_view_module": "@jupyter-widgets/base",
            "overflow": null,
            "_model_module_version": "1.2.0",
            "_view_count": null,
            "flex_flow": null,
            "width": null,
            "min_width": null,
            "border": null,
            "align_items": null,
            "bottom": null,
            "_model_module": "@jupyter-widgets/base",
            "top": null,
            "grid_column": null,
            "overflow_y": null,
            "overflow_x": null,
            "grid_auto_flow": null,
            "grid_area": null,
            "grid_template_columns": null,
            "flex": null,
            "_model_name": "LayoutModel",
            "justify_items": null,
            "grid_row": null,
            "max_height": null,
            "align_content": null,
            "visibility": null,
            "align_self": null,
            "height": null,
            "min_height": null,
            "padding": null,
            "grid_auto_rows": null,
            "grid_gap": null,
            "max_width": null,
            "order": null,
            "_view_module_version": "1.2.0",
            "grid_template_areas": null,
            "object_position": null,
            "object_fit": null,
            "grid_auto_columns": null,
            "margin": null,
            "display": null,
            "left": null
          }
        },
        "b3b75f56af524dc78c0d639b8570ca29": {
          "model_module": "@jupyter-widgets/controls",
          "model_name": "HBoxModel",
          "state": {
            "_view_name": "HBoxView",
            "_dom_classes": [],
            "_model_name": "HBoxModel",
            "_view_module": "@jupyter-widgets/controls",
            "_model_module_version": "1.5.0",
            "_view_count": null,
            "_view_module_version": "1.5.0",
            "box_style": "",
            "layout": "IPY_MODEL_68ea91b116134e258f804439613af918",
            "_model_module": "@jupyter-widgets/controls",
            "children": [
              "IPY_MODEL_5912c8c54fe74c898fe178290cc669f9",
              "IPY_MODEL_bb26acbd227f433980127ae7d1b89c65"
            ]
          }
        },
        "68ea91b116134e258f804439613af918": {
          "model_module": "@jupyter-widgets/base",
          "model_name": "LayoutModel",
          "state": {
            "_view_name": "LayoutView",
            "grid_template_rows": null,
            "right": null,
            "justify_content": null,
            "_view_module": "@jupyter-widgets/base",
            "overflow": null,
            "_model_module_version": "1.2.0",
            "_view_count": null,
            "flex_flow": null,
            "width": null,
            "min_width": null,
            "border": null,
            "align_items": null,
            "bottom": null,
            "_model_module": "@jupyter-widgets/base",
            "top": null,
            "grid_column": null,
            "overflow_y": null,
            "overflow_x": null,
            "grid_auto_flow": null,
            "grid_area": null,
            "grid_template_columns": null,
            "flex": null,
            "_model_name": "LayoutModel",
            "justify_items": null,
            "grid_row": null,
            "max_height": null,
            "align_content": null,
            "visibility": null,
            "align_self": null,
            "height": null,
            "min_height": null,
            "padding": null,
            "grid_auto_rows": null,
            "grid_gap": null,
            "max_width": null,
            "order": null,
            "_view_module_version": "1.2.0",
            "grid_template_areas": null,
            "object_position": null,
            "object_fit": null,
            "grid_auto_columns": null,
            "margin": null,
            "display": null,
            "left": null
          }
        },
        "5912c8c54fe74c898fe178290cc669f9": {
          "model_module": "@jupyter-widgets/controls",
          "model_name": "IntProgressModel",
          "state": {
            "_view_name": "ProgressView",
            "style": "IPY_MODEL_883bf10ee569489c8f43d10102b36d49",
            "_dom_classes": [],
            "description": "",
            "_model_name": "IntProgressModel",
            "bar_style": "success",
            "max": 1,
            "_view_module": "@jupyter-widgets/controls",
            "_model_module_version": "1.5.0",
            "value": 1,
            "_view_count": null,
            "_view_module_version": "1.5.0",
            "orientation": "horizontal",
            "min": 0,
            "description_tooltip": null,
            "_model_module": "@jupyter-widgets/controls",
            "layout": "IPY_MODEL_be8f0bee3b2e413cb21fed0a33419a8d"
          }
        },
        "bb26acbd227f433980127ae7d1b89c65": {
          "model_module": "@jupyter-widgets/controls",
          "model_name": "HTMLModel",
          "state": {
            "_view_name": "HTMLView",
            "style": "IPY_MODEL_144bf25af75146349a45e12f3509e7bc",
            "_dom_classes": [],
            "description": "",
            "_model_name": "HTMLModel",
            "placeholder": "​",
            "_view_module": "@jupyter-widgets/controls",
            "_model_module_version": "1.5.0",
            "value": "1654784it [00:00, 2607584.32it/s]",
            "_view_count": null,
            "_view_module_version": "1.5.0",
            "description_tooltip": null,
            "_model_module": "@jupyter-widgets/controls",
            "layout": "IPY_MODEL_0b6941bf891844f49c43efa673d0d0b0"
          }
        },
        "883bf10ee569489c8f43d10102b36d49": {
          "model_module": "@jupyter-widgets/controls",
          "model_name": "ProgressStyleModel",
          "state": {
            "_view_name": "StyleView",
            "_model_name": "ProgressStyleModel",
            "description_width": "",
            "_view_module": "@jupyter-widgets/base",
            "_model_module_version": "1.5.0",
            "_view_count": null,
            "_view_module_version": "1.2.0",
            "bar_color": null,
            "_model_module": "@jupyter-widgets/controls"
          }
        },
        "be8f0bee3b2e413cb21fed0a33419a8d": {
          "model_module": "@jupyter-widgets/base",
          "model_name": "LayoutModel",
          "state": {
            "_view_name": "LayoutView",
            "grid_template_rows": null,
            "right": null,
            "justify_content": null,
            "_view_module": "@jupyter-widgets/base",
            "overflow": null,
            "_model_module_version": "1.2.0",
            "_view_count": null,
            "flex_flow": null,
            "width": null,
            "min_width": null,
            "border": null,
            "align_items": null,
            "bottom": null,
            "_model_module": "@jupyter-widgets/base",
            "top": null,
            "grid_column": null,
            "overflow_y": null,
            "overflow_x": null,
            "grid_auto_flow": null,
            "grid_area": null,
            "grid_template_columns": null,
            "flex": null,
            "_model_name": "LayoutModel",
            "justify_items": null,
            "grid_row": null,
            "max_height": null,
            "align_content": null,
            "visibility": null,
            "align_self": null,
            "height": null,
            "min_height": null,
            "padding": null,
            "grid_auto_rows": null,
            "grid_gap": null,
            "max_width": null,
            "order": null,
            "_view_module_version": "1.2.0",
            "grid_template_areas": null,
            "object_position": null,
            "object_fit": null,
            "grid_auto_columns": null,
            "margin": null,
            "display": null,
            "left": null
          }
        },
        "144bf25af75146349a45e12f3509e7bc": {
          "model_module": "@jupyter-widgets/controls",
          "model_name": "DescriptionStyleModel",
          "state": {
            "_view_name": "StyleView",
            "_model_name": "DescriptionStyleModel",
            "description_width": "",
            "_view_module": "@jupyter-widgets/base",
            "_model_module_version": "1.5.0",
            "_view_count": null,
            "_view_module_version": "1.2.0",
            "_model_module": "@jupyter-widgets/controls"
          }
        },
        "0b6941bf891844f49c43efa673d0d0b0": {
          "model_module": "@jupyter-widgets/base",
          "model_name": "LayoutModel",
          "state": {
            "_view_name": "LayoutView",
            "grid_template_rows": null,
            "right": null,
            "justify_content": null,
            "_view_module": "@jupyter-widgets/base",
            "overflow": null,
            "_model_module_version": "1.2.0",
            "_view_count": null,
            "flex_flow": null,
            "width": null,
            "min_width": null,
            "border": null,
            "align_items": null,
            "bottom": null,
            "_model_module": "@jupyter-widgets/base",
            "top": null,
            "grid_column": null,
            "overflow_y": null,
            "overflow_x": null,
            "grid_auto_flow": null,
            "grid_area": null,
            "grid_template_columns": null,
            "flex": null,
            "_model_name": "LayoutModel",
            "justify_items": null,
            "grid_row": null,
            "max_height": null,
            "align_content": null,
            "visibility": null,
            "align_self": null,
            "height": null,
            "min_height": null,
            "padding": null,
            "grid_auto_rows": null,
            "grid_gap": null,
            "max_width": null,
            "order": null,
            "_view_module_version": "1.2.0",
            "grid_template_areas": null,
            "object_position": null,
            "object_fit": null,
            "grid_auto_columns": null,
            "margin": null,
            "display": null,
            "left": null
          }
        },
        "a3480c29f5d74b2492b0facaa9deb6de": {
          "model_module": "@jupyter-widgets/controls",
          "model_name": "HBoxModel",
          "state": {
            "_view_name": "HBoxView",
            "_dom_classes": [],
            "_model_name": "HBoxModel",
            "_view_module": "@jupyter-widgets/controls",
            "_model_module_version": "1.5.0",
            "_view_count": null,
            "_view_module_version": "1.5.0",
            "box_style": "",
            "layout": "IPY_MODEL_2f1cb2319f1a4941bee47eee09c3a98a",
            "_model_module": "@jupyter-widgets/controls",
            "children": [
              "IPY_MODEL_3522e4cf124f43e8937d243efd7f8225",
              "IPY_MODEL_cd687232b03b47d3b9334bbc90b31767"
            ]
          }
        },
        "2f1cb2319f1a4941bee47eee09c3a98a": {
          "model_module": "@jupyter-widgets/base",
          "model_name": "LayoutModel",
          "state": {
            "_view_name": "LayoutView",
            "grid_template_rows": null,
            "right": null,
            "justify_content": null,
            "_view_module": "@jupyter-widgets/base",
            "overflow": null,
            "_model_module_version": "1.2.0",
            "_view_count": null,
            "flex_flow": null,
            "width": null,
            "min_width": null,
            "border": null,
            "align_items": null,
            "bottom": null,
            "_model_module": "@jupyter-widgets/base",
            "top": null,
            "grid_column": null,
            "overflow_y": null,
            "overflow_x": null,
            "grid_auto_flow": null,
            "grid_area": null,
            "grid_template_columns": null,
            "flex": null,
            "_model_name": "LayoutModel",
            "justify_items": null,
            "grid_row": null,
            "max_height": null,
            "align_content": null,
            "visibility": null,
            "align_self": null,
            "height": null,
            "min_height": null,
            "padding": null,
            "grid_auto_rows": null,
            "grid_gap": null,
            "max_width": null,
            "order": null,
            "_view_module_version": "1.2.0",
            "grid_template_areas": null,
            "object_position": null,
            "object_fit": null,
            "grid_auto_columns": null,
            "margin": null,
            "display": null,
            "left": null
          }
        },
        "3522e4cf124f43e8937d243efd7f8225": {
          "model_module": "@jupyter-widgets/controls",
          "model_name": "IntProgressModel",
          "state": {
            "_view_name": "ProgressView",
            "style": "IPY_MODEL_4927ca65cbcf4883a942bf3b93a26046",
            "_dom_classes": [],
            "description": "",
            "_model_name": "IntProgressModel",
            "bar_style": "success",
            "max": 1,
            "_view_module": "@jupyter-widgets/controls",
            "_model_module_version": "1.5.0",
            "value": 1,
            "_view_count": null,
            "_view_module_version": "1.5.0",
            "orientation": "horizontal",
            "min": 0,
            "description_tooltip": null,
            "_model_module": "@jupyter-widgets/controls",
            "layout": "IPY_MODEL_743077e568e94ff781307955dce8f0a7"
          }
        },
        "cd687232b03b47d3b9334bbc90b31767": {
          "model_module": "@jupyter-widgets/controls",
          "model_name": "HTMLModel",
          "state": {
            "_view_name": "HTMLView",
            "style": "IPY_MODEL_3a082a19313e4e9388784ba0c30dae2b",
            "_dom_classes": [],
            "description": "",
            "_model_name": "HTMLModel",
            "placeholder": "​",
            "_view_module": "@jupyter-widgets/controls",
            "_model_module_version": "1.5.0",
            "value": "8192it [00:00, 53550.29it/s]",
            "_view_count": null,
            "_view_module_version": "1.5.0",
            "description_tooltip": null,
            "_model_module": "@jupyter-widgets/controls",
            "layout": "IPY_MODEL_e84884b28b2a468c9c966983e782a833"
          }
        },
        "4927ca65cbcf4883a942bf3b93a26046": {
          "model_module": "@jupyter-widgets/controls",
          "model_name": "ProgressStyleModel",
          "state": {
            "_view_name": "StyleView",
            "_model_name": "ProgressStyleModel",
            "description_width": "",
            "_view_module": "@jupyter-widgets/base",
            "_model_module_version": "1.5.0",
            "_view_count": null,
            "_view_module_version": "1.2.0",
            "bar_color": null,
            "_model_module": "@jupyter-widgets/controls"
          }
        },
        "743077e568e94ff781307955dce8f0a7": {
          "model_module": "@jupyter-widgets/base",
          "model_name": "LayoutModel",
          "state": {
            "_view_name": "LayoutView",
            "grid_template_rows": null,
            "right": null,
            "justify_content": null,
            "_view_module": "@jupyter-widgets/base",
            "overflow": null,
            "_model_module_version": "1.2.0",
            "_view_count": null,
            "flex_flow": null,
            "width": null,
            "min_width": null,
            "border": null,
            "align_items": null,
            "bottom": null,
            "_model_module": "@jupyter-widgets/base",
            "top": null,
            "grid_column": null,
            "overflow_y": null,
            "overflow_x": null,
            "grid_auto_flow": null,
            "grid_area": null,
            "grid_template_columns": null,
            "flex": null,
            "_model_name": "LayoutModel",
            "justify_items": null,
            "grid_row": null,
            "max_height": null,
            "align_content": null,
            "visibility": null,
            "align_self": null,
            "height": null,
            "min_height": null,
            "padding": null,
            "grid_auto_rows": null,
            "grid_gap": null,
            "max_width": null,
            "order": null,
            "_view_module_version": "1.2.0",
            "grid_template_areas": null,
            "object_position": null,
            "object_fit": null,
            "grid_auto_columns": null,
            "margin": null,
            "display": null,
            "left": null
          }
        },
        "3a082a19313e4e9388784ba0c30dae2b": {
          "model_module": "@jupyter-widgets/controls",
          "model_name": "DescriptionStyleModel",
          "state": {
            "_view_name": "StyleView",
            "_model_name": "DescriptionStyleModel",
            "description_width": "",
            "_view_module": "@jupyter-widgets/base",
            "_model_module_version": "1.5.0",
            "_view_count": null,
            "_view_module_version": "1.2.0",
            "_model_module": "@jupyter-widgets/controls"
          }
        },
        "e84884b28b2a468c9c966983e782a833": {
          "model_module": "@jupyter-widgets/base",
          "model_name": "LayoutModel",
          "state": {
            "_view_name": "LayoutView",
            "grid_template_rows": null,
            "right": null,
            "justify_content": null,
            "_view_module": "@jupyter-widgets/base",
            "overflow": null,
            "_model_module_version": "1.2.0",
            "_view_count": null,
            "flex_flow": null,
            "width": null,
            "min_width": null,
            "border": null,
            "align_items": null,
            "bottom": null,
            "_model_module": "@jupyter-widgets/base",
            "top": null,
            "grid_column": null,
            "overflow_y": null,
            "overflow_x": null,
            "grid_auto_flow": null,
            "grid_area": null,
            "grid_template_columns": null,
            "flex": null,
            "_model_name": "LayoutModel",
            "justify_items": null,
            "grid_row": null,
            "max_height": null,
            "align_content": null,
            "visibility": null,
            "align_self": null,
            "height": null,
            "min_height": null,
            "padding": null,
            "grid_auto_rows": null,
            "grid_gap": null,
            "max_width": null,
            "order": null,
            "_view_module_version": "1.2.0",
            "grid_template_areas": null,
            "object_position": null,
            "object_fit": null,
            "grid_auto_columns": null,
            "margin": null,
            "display": null,
            "left": null
          }
        }
      }
    }
  },
  "cells": [
    {
      "cell_type": "markdown",
      "metadata": {
        "id": "I2tV18M5gmmv",
        "colab_type": "text"
      },
      "source": [
        "# CNN + Batch Normalization + Dropout"
      ]
    },
    {
      "cell_type": "code",
      "metadata": {
        "id": "i3DDdRaPgmmy",
        "colab_type": "code",
        "colab": {}
      },
      "source": [
        "import numpy as np\n",
        "import matplotlib.pyplot as plt\n",
        "import seaborn\n",
        "import torch\n",
        "import torchvision\n",
        "import tqdm\n",
        "%matplotlib inline\n",
        "\n",
        "seaborn.set()\n",
        "%config InlineBackend.figure_formats = {'png', 'retina'}"
      ],
      "execution_count": 0,
      "outputs": []
    },
    {
      "cell_type": "markdown",
      "metadata": {
        "id": "dUi2JcJogmm3",
        "colab_type": "text"
      },
      "source": [
        "### データの読み込み"
      ]
    },
    {
      "cell_type": "code",
      "metadata": {
        "id": "ld-VzKnjgmm4",
        "colab_type": "code",
        "colab": {
          "base_uri": "https://localhost:8080/",
          "height": 397,
          "referenced_widgets": [
            "1e9ca702d3534360a5a5bf931daa5d79",
            "94ecbc2b59454381964c84290309ecba",
            "878b9fdc25404b018fb894275da2d2c5",
            "76ee398121f84c60aaf5983e79da56cb",
            "14c099eec8ec40a8b7ad86a67f7cc1fb",
            "7a0a46b870954aec875713eeccc1241b",
            "ca53f227ecb14085925625781045cd61",
            "cd5feb6931c04b3db7b1efb17c6cecc1",
            "7899e96481c74a8aab995a7dde334652",
            "71ed3016e0e74fc99e873e983bfb9ab3",
            "ab2f484eed194e7cb71c982b6c1c82b6",
            "d77369b132eb4c05a19602834dcb4a72",
            "f57639568d9f43708c7082c768e6d7cf",
            "c69f015ff0e54f2ebd90f8c78b5d5819",
            "6ae728cc290f49d3837951dec12a0890",
            "596384931b754fa0a82dd73f03f94600",
            "b3b75f56af524dc78c0d639b8570ca29",
            "68ea91b116134e258f804439613af918",
            "5912c8c54fe74c898fe178290cc669f9",
            "bb26acbd227f433980127ae7d1b89c65",
            "883bf10ee569489c8f43d10102b36d49",
            "be8f0bee3b2e413cb21fed0a33419a8d",
            "144bf25af75146349a45e12f3509e7bc",
            "0b6941bf891844f49c43efa673d0d0b0",
            "a3480c29f5d74b2492b0facaa9deb6de",
            "2f1cb2319f1a4941bee47eee09c3a98a",
            "3522e4cf124f43e8937d243efd7f8225",
            "cd687232b03b47d3b9334bbc90b31767",
            "4927ca65cbcf4883a942bf3b93a26046",
            "743077e568e94ff781307955dce8f0a7",
            "3a082a19313e4e9388784ba0c30dae2b",
            "e84884b28b2a468c9c966983e782a833"
          ]
        },
        "outputId": "46a3ead7-14b6-4ca4-bffe-cccfc3253609"
      },
      "source": [
        "import torch\n",
        "import torchvision\n",
        "import torchvision.transforms as transforms\n",
        "\n",
        "# 画像を読み込んだ時の変換関数を作る\n",
        "tfm = transforms.Compose([transforms.ToTensor(),\n",
        "                          transforms.Normalize((0,), (1,)),\n",
        "                         ])\n",
        "# それぞれのデータと読み込み方を指定\n",
        "trainset = torchvision.datasets.MNIST(root='../../data', train=True, download=True, transform=tfm)\n",
        "trainloader = torch.utils.data.DataLoader(trainset, batch_size=100,\n",
        "                                          shuffle=True, num_workers=2)\n",
        "\n",
        "testset = torchvision.datasets.MNIST(root='../../data', train=False, download=True, transform=tfm)\n",
        "testloader = torch.utils.data.DataLoader(testset, batch_size=100,\n",
        "                                          shuffle=True, num_workers=2)\n"
      ],
      "execution_count": 2,
      "outputs": [
        {
          "output_type": "stream",
          "text": [
            "Downloading http://yann.lecun.com/exdb/mnist/train-images-idx3-ubyte.gz to ../../data/MNIST/raw/train-images-idx3-ubyte.gz\n"
          ],
          "name": "stdout"
        },
        {
          "output_type": "display_data",
          "data": {
            "application/vnd.jupyter.widget-view+json": {
              "model_id": "1e9ca702d3534360a5a5bf931daa5d79",
              "version_minor": 0,
              "version_major": 2
            },
            "text/plain": [
              "HBox(children=(IntProgress(value=1, bar_style='info', max=1), HTML(value='')))"
            ]
          },
          "metadata": {
            "tags": []
          }
        },
        {
          "output_type": "stream",
          "text": [
            "\n",
            "Extracting ../../data/MNIST/raw/train-images-idx3-ubyte.gz to ../../data/MNIST/raw\n",
            "Downloading http://yann.lecun.com/exdb/mnist/train-labels-idx1-ubyte.gz to ../../data/MNIST/raw/train-labels-idx1-ubyte.gz\n"
          ],
          "name": "stdout"
        },
        {
          "output_type": "display_data",
          "data": {
            "application/vnd.jupyter.widget-view+json": {
              "model_id": "7899e96481c74a8aab995a7dde334652",
              "version_minor": 0,
              "version_major": 2
            },
            "text/plain": [
              "HBox(children=(IntProgress(value=1, bar_style='info', max=1), HTML(value='')))"
            ]
          },
          "metadata": {
            "tags": []
          }
        },
        {
          "output_type": "stream",
          "text": [
            "\n",
            "Extracting ../../data/MNIST/raw/train-labels-idx1-ubyte.gz to ../../data/MNIST/raw\n",
            "Downloading http://yann.lecun.com/exdb/mnist/t10k-images-idx3-ubyte.gz to ../../data/MNIST/raw/t10k-images-idx3-ubyte.gz\n"
          ],
          "name": "stdout"
        },
        {
          "output_type": "display_data",
          "data": {
            "application/vnd.jupyter.widget-view+json": {
              "model_id": "b3b75f56af524dc78c0d639b8570ca29",
              "version_minor": 0,
              "version_major": 2
            },
            "text/plain": [
              "HBox(children=(IntProgress(value=1, bar_style='info', max=1), HTML(value='')))"
            ]
          },
          "metadata": {
            "tags": []
          }
        },
        {
          "output_type": "stream",
          "text": [
            "\n",
            "Extracting ../../data/MNIST/raw/t10k-images-idx3-ubyte.gz to ../../data/MNIST/raw\n",
            "Downloading http://yann.lecun.com/exdb/mnist/t10k-labels-idx1-ubyte.gz to ../../data/MNIST/raw/t10k-labels-idx1-ubyte.gz\n"
          ],
          "name": "stdout"
        },
        {
          "output_type": "display_data",
          "data": {
            "application/vnd.jupyter.widget-view+json": {
              "model_id": "a3480c29f5d74b2492b0facaa9deb6de",
              "version_minor": 0,
              "version_major": 2
            },
            "text/plain": [
              "HBox(children=(IntProgress(value=1, bar_style='info', max=1), HTML(value='')))"
            ]
          },
          "metadata": {
            "tags": []
          }
        },
        {
          "output_type": "stream",
          "text": [
            "\n",
            "Extracting ../../data/MNIST/raw/t10k-labels-idx1-ubyte.gz to ../../data/MNIST/raw\n",
            "Processing...\n",
            "Done!\n"
          ],
          "name": "stdout"
        }
      ]
    },
    {
      "cell_type": "markdown",
      "metadata": {
        "id": "Eb7hhDotmocz",
        "colab_type": "text"
      },
      "source": [
        "#### GPU が使えるなら使う"
      ]
    },
    {
      "cell_type": "code",
      "metadata": {
        "id": "ebPZcpb6mmz_",
        "colab_type": "code",
        "colab": {}
      },
      "source": [
        "def try_gpu(e):\n",
        "    if torch.cuda.is_available():\n",
        "        return e.cuda()\n",
        "    return e"
      ],
      "execution_count": 0,
      "outputs": []
    },
    {
      "cell_type": "markdown",
      "metadata": {
        "id": "VT05q4gFgmm8",
        "colab_type": "text"
      },
      "source": [
        "### ネットワークを作る"
      ]
    },
    {
      "cell_type": "code",
      "metadata": {
        "id": "8MCANbIPgmm9",
        "colab_type": "code",
        "outputId": "09f8fea4-5218-48af-a472-af8d63b11ca2",
        "colab": {
          "base_uri": "https://localhost:8080/",
          "height": 1000
        }
      },
      "source": [
        "import torch\n",
        "import torch.nn as nn\n",
        "import torch.nn.functional as F\n",
        "\n",
        "\n",
        "class Customconv(nn.Module):\n",
        "    def __init__(self, in_channels, out_channels, kernel_size, stride=1, padding=0, batch_norm=True, dropout_rate=0.5):\n",
        "        super().__init__()\n",
        "        self.batch_norm = batch_norm\n",
        "        self.conv = nn.Conv2d(in_channels, out_channels, kernel_size, stride=stride, padding=padding)\n",
        "        self.norm = nn.BatchNorm2d(out_channels)  # This is also learnable by default. See https://pytorch.org/docs/stable/nn.html#batchnorm2d.\n",
        "        self.relu = nn.ReLU()\n",
        "        self.dropout = nn.Dropout2d(dropout_rate)\n",
        "\n",
        "    def forward(self, x):\n",
        "        x = self.conv(x)\n",
        "        x = self.relu(x)\n",
        "        if self.batch_norm:\n",
        "            x = self.norm(x)\n",
        "        x = self.dropout(x)\n",
        "        return x\n",
        "\n",
        "\n",
        "class Customlinear(nn.Module):\n",
        "    def __init__(self, in_features, out_features, bias=True, batch_norm=True, dropout_rate=0.5):\n",
        "        super().__init__()\n",
        "        self.batch_norm = batch_norm\n",
        "        self.fc = nn.Linear(in_features, out_features, bias)\n",
        "        self.norm = nn.BatchNorm1d(out_features)\n",
        "        self.relu = nn.ReLU()\n",
        "        self.dropout = nn.Dropout(dropout_rate)\n",
        "\n",
        "    def forward(self, x):\n",
        "        x = self.fc(x)\n",
        "        x = self.relu(x)\n",
        "        if self.batch_norm:\n",
        "            x = self.norm(x)\n",
        "        x = self.dropout(x)\n",
        "        return x\n",
        "\n",
        "class Net(nn.Module):\n",
        "\n",
        "    def __init__(self):\n",
        "        super(Net, self).__init__() # super の第一引数はこのクラスの名前にする\n",
        "        self.convs = nn.Sequential(\n",
        "            Customconv(1, 4, 5, padding=2),  # 1*28*28 -> 4*28*28\n",
        "            Customconv(4, 16, 5,padding=2), # 4*28*28 -> 16*28*28\n",
        "            Customconv(16, 64, 5, stride=2, padding=2), # 16*28*28 -> 64*14*14\n",
        "            Customconv(64, 32, 3),     # 64*14*14 -> 32*12*12\n",
        "            Customconv(32, 16, 3, stride=2)  # 32*12*12 -> 16*5*5\n",
        "        )\n",
        "\n",
        "        self.fcs = nn.Sequential(\n",
        "            Customlinear(16*5*5, 200),          # 16*5*5 -> 200\n",
        "            Customlinear(200, 200),\n",
        "            Customlinear(200, 50),\n",
        "            Customlinear(50, 20),\n",
        "            nn.Linear(20, 10)\n",
        "        )\n",
        "        \n",
        "    def forward(self, x):\n",
        "        x = self.convs(x)\n",
        "        x = x.view(-1, 5*5*16)\n",
        "        x = self.fcs(x)\n",
        "        return x\n",
        "    \n",
        "\n",
        "net = Net()\n",
        "net = try_gpu(net)\n",
        "print(net)"
      ],
      "execution_count": 4,
      "outputs": [
        {
          "output_type": "stream",
          "text": [
            "Net(\n",
            "  (convs): Sequential(\n",
            "    (0): Customconv(\n",
            "      (conv): Conv2d(1, 4, kernel_size=(5, 5), stride=(1, 1), padding=(2, 2))\n",
            "      (norm): BatchNorm2d(4, eps=1e-05, momentum=0.1, affine=True, track_running_stats=True)\n",
            "      (relu): ReLU()\n",
            "      (dropout): Dropout2d(p=0.5, inplace=False)\n",
            "    )\n",
            "    (1): Customconv(\n",
            "      (conv): Conv2d(4, 16, kernel_size=(5, 5), stride=(1, 1), padding=(2, 2))\n",
            "      (norm): BatchNorm2d(16, eps=1e-05, momentum=0.1, affine=True, track_running_stats=True)\n",
            "      (relu): ReLU()\n",
            "      (dropout): Dropout2d(p=0.5, inplace=False)\n",
            "    )\n",
            "    (2): Customconv(\n",
            "      (conv): Conv2d(16, 64, kernel_size=(5, 5), stride=(2, 2), padding=(2, 2))\n",
            "      (norm): BatchNorm2d(64, eps=1e-05, momentum=0.1, affine=True, track_running_stats=True)\n",
            "      (relu): ReLU()\n",
            "      (dropout): Dropout2d(p=0.5, inplace=False)\n",
            "    )\n",
            "    (3): Customconv(\n",
            "      (conv): Conv2d(64, 32, kernel_size=(3, 3), stride=(1, 1))\n",
            "      (norm): BatchNorm2d(32, eps=1e-05, momentum=0.1, affine=True, track_running_stats=True)\n",
            "      (relu): ReLU()\n",
            "      (dropout): Dropout2d(p=0.5, inplace=False)\n",
            "    )\n",
            "    (4): Customconv(\n",
            "      (conv): Conv2d(32, 16, kernel_size=(3, 3), stride=(2, 2))\n",
            "      (norm): BatchNorm2d(16, eps=1e-05, momentum=0.1, affine=True, track_running_stats=True)\n",
            "      (relu): ReLU()\n",
            "      (dropout): Dropout2d(p=0.5, inplace=False)\n",
            "    )\n",
            "  )\n",
            "  (fcs): Sequential(\n",
            "    (0): Customlinear(\n",
            "      (fc): Linear(in_features=400, out_features=200, bias=True)\n",
            "      (norm): BatchNorm1d(200, eps=1e-05, momentum=0.1, affine=True, track_running_stats=True)\n",
            "      (relu): ReLU()\n",
            "      (dropout): Dropout(p=0.5, inplace=False)\n",
            "    )\n",
            "    (1): Customlinear(\n",
            "      (fc): Linear(in_features=200, out_features=200, bias=True)\n",
            "      (norm): BatchNorm1d(200, eps=1e-05, momentum=0.1, affine=True, track_running_stats=True)\n",
            "      (relu): ReLU()\n",
            "      (dropout): Dropout(p=0.5, inplace=False)\n",
            "    )\n",
            "    (2): Customlinear(\n",
            "      (fc): Linear(in_features=200, out_features=50, bias=True)\n",
            "      (norm): BatchNorm1d(50, eps=1e-05, momentum=0.1, affine=True, track_running_stats=True)\n",
            "      (relu): ReLU()\n",
            "      (dropout): Dropout(p=0.5, inplace=False)\n",
            "    )\n",
            "    (3): Customlinear(\n",
            "      (fc): Linear(in_features=50, out_features=20, bias=True)\n",
            "      (norm): BatchNorm1d(20, eps=1e-05, momentum=0.1, affine=True, track_running_stats=True)\n",
            "      (relu): ReLU()\n",
            "      (dropout): Dropout(p=0.5, inplace=False)\n",
            "    )\n",
            "    (4): Linear(in_features=20, out_features=10, bias=True)\n",
            "  )\n",
            ")\n"
          ],
          "name": "stdout"
        }
      ]
    },
    {
      "cell_type": "markdown",
      "metadata": {
        "id": "tqOYleNugmnC",
        "colab_type": "text"
      },
      "source": [
        "### 損失関数と最適化手法の定義"
      ]
    },
    {
      "cell_type": "code",
      "metadata": {
        "id": "3AkwFlEvgmnD",
        "colab_type": "code",
        "colab": {}
      },
      "source": [
        "import torch.nn as nn\n",
        "import torch.optim as optim\n",
        "\n",
        "criterion = nn.CrossEntropyLoss()\n",
        "optimizer = optim.Adam(net.parameters(), lr=0.005) # 微分の\"使い方\""
      ],
      "execution_count": 0,
      "outputs": []
    },
    {
      "cell_type": "markdown",
      "metadata": {
        "id": "nubobhXCgmnG",
        "colab_type": "text"
      },
      "source": [
        "### 学習する"
      ]
    },
    {
      "cell_type": "code",
      "metadata": {
        "id": "fnw0yhi8gmnH",
        "colab_type": "code",
        "outputId": "a995aecc-509a-43b0-b326-4c6c17788f43",
        "colab": {
          "base_uri": "https://localhost:8080/",
          "height": 1000
        }
      },
      "source": [
        "%%time\n",
        "net.train()\n",
        "running_losses = list()\n",
        "for epoch in range(20):  # loop over the dataset multiple times\n",
        "    running_loss = 0.0\n",
        "    for i, data in enumerate(trainloader, start=1): \n",
        "        # get the inputs\n",
        "        inputs, labels = data\n",
        "        inputs = try_gpu(inputs)\n",
        "        labels = try_gpu(labels)\n",
        "\n",
        "        # 計算していた逆伝播を0に戻す\n",
        "        optimizer.zero_grad()\n",
        "\n",
        "        # forward / backward / optimize\n",
        "        outputs = net(inputs)\n",
        "        loss = criterion(outputs, labels)  # データを損失関数に突っ込む\n",
        "        loss.backward()    # 誤差逆伝播(パラメータの変化の微分を計算)\n",
        "        optimizer.step()   # 最適化手法をもとにパラメータ更新\n",
        "\n",
        "        # print statistics\n",
        "        running_loss += loss.item()\n",
        "        if i % 100 == 0:    # print every 200 mini-batches (1バッチは100枚 trainデータは60000枚あるので600までいく)\n",
        "            running_loss_mean = running_loss / 100\n",
        "            print('%d epoch /%5d roop  loss: %.3f' %\n",
        "                  (epoch + 1, i, running_loss_mean), flush=True)\n",
        "            running_losses.append(running_loss_mean)\n",
        "            running_loss = 0.0\n",
        "\n",
        "\n",
        "print('Finished Training')\n",
        "\n",
        "plt.plot(running_losses)\n",
        "plt.title(\"running loss\")\n",
        "plt.show()"
      ],
      "execution_count": 6,
      "outputs": [
        {
          "output_type": "stream",
          "text": [
            "1 epoch /  100 roop  loss: 2.331\n",
            "1 epoch /  200 roop  loss: 2.025\n",
            "1 epoch /  300 roop  loss: 1.638\n",
            "1 epoch /  400 roop  loss: 1.259\n",
            "1 epoch /  500 roop  loss: 1.074\n",
            "1 epoch /  600 roop  loss: 0.964\n",
            "2 epoch /  100 roop  loss: 0.868\n",
            "2 epoch /  200 roop  loss: 0.819\n",
            "2 epoch /  300 roop  loss: 0.777\n",
            "2 epoch /  400 roop  loss: 0.731\n",
            "2 epoch /  500 roop  loss: 0.698\n",
            "2 epoch /  600 roop  loss: 0.675\n",
            "3 epoch /  100 roop  loss: 0.643\n",
            "3 epoch /  200 roop  loss: 0.630\n",
            "3 epoch /  300 roop  loss: 0.623\n",
            "3 epoch /  400 roop  loss: 0.619\n",
            "3 epoch /  500 roop  loss: 0.575\n",
            "3 epoch /  600 roop  loss: 0.574\n",
            "4 epoch /  100 roop  loss: 0.550\n",
            "4 epoch /  200 roop  loss: 0.550\n",
            "4 epoch /  300 roop  loss: 0.507\n",
            "4 epoch /  400 roop  loss: 0.530\n",
            "4 epoch /  500 roop  loss: 0.531\n",
            "4 epoch /  600 roop  loss: 0.521\n",
            "5 epoch /  100 roop  loss: 0.507\n",
            "5 epoch /  200 roop  loss: 0.514\n",
            "5 epoch /  300 roop  loss: 0.514\n",
            "5 epoch /  400 roop  loss: 0.500\n",
            "5 epoch /  500 roop  loss: 0.489\n",
            "5 epoch /  600 roop  loss: 0.463\n",
            "6 epoch /  100 roop  loss: 0.498\n",
            "6 epoch /  200 roop  loss: 0.512\n",
            "6 epoch /  300 roop  loss: 0.474\n",
            "6 epoch /  400 roop  loss: 0.469\n",
            "6 epoch /  500 roop  loss: 0.471\n",
            "6 epoch /  600 roop  loss: 0.473\n",
            "7 epoch /  100 roop  loss: 0.473\n",
            "7 epoch /  200 roop  loss: 0.467\n",
            "7 epoch /  300 roop  loss: 0.458\n",
            "7 epoch /  400 roop  loss: 0.462\n",
            "7 epoch /  500 roop  loss: 0.448\n",
            "7 epoch /  600 roop  loss: 0.440\n",
            "8 epoch /  100 roop  loss: 0.461\n",
            "8 epoch /  200 roop  loss: 0.441\n",
            "8 epoch /  300 roop  loss: 0.452\n",
            "8 epoch /  400 roop  loss: 0.426\n",
            "8 epoch /  500 roop  loss: 0.427\n",
            "8 epoch /  600 roop  loss: 0.437\n",
            "9 epoch /  100 roop  loss: 0.433\n",
            "9 epoch /  200 roop  loss: 0.423\n",
            "9 epoch /  300 roop  loss: 0.435\n",
            "9 epoch /  400 roop  loss: 0.443\n",
            "9 epoch /  500 roop  loss: 0.429\n",
            "9 epoch /  600 roop  loss: 0.425\n",
            "10 epoch /  100 roop  loss: 0.431\n",
            "10 epoch /  200 roop  loss: 0.421\n",
            "10 epoch /  300 roop  loss: 0.439\n",
            "10 epoch /  400 roop  loss: 0.402\n",
            "10 epoch /  500 roop  loss: 0.415\n",
            "10 epoch /  600 roop  loss: 0.412\n",
            "11 epoch /  100 roop  loss: 0.425\n",
            "11 epoch /  200 roop  loss: 0.423\n",
            "11 epoch /  300 roop  loss: 0.393\n",
            "11 epoch /  400 roop  loss: 0.401\n",
            "11 epoch /  500 roop  loss: 0.396\n",
            "11 epoch /  600 roop  loss: 0.407\n",
            "12 epoch /  100 roop  loss: 0.403\n",
            "12 epoch /  200 roop  loss: 0.395\n",
            "12 epoch /  300 roop  loss: 0.419\n",
            "12 epoch /  400 roop  loss: 0.415\n",
            "12 epoch /  500 roop  loss: 0.402\n",
            "12 epoch /  600 roop  loss: 0.410\n",
            "13 epoch /  100 roop  loss: 0.405\n",
            "13 epoch /  200 roop  loss: 0.405\n",
            "13 epoch /  300 roop  loss: 0.420\n",
            "13 epoch /  400 roop  loss: 0.396\n",
            "13 epoch /  500 roop  loss: 0.412\n",
            "13 epoch /  600 roop  loss: 0.396\n",
            "14 epoch /  100 roop  loss: 0.394\n",
            "14 epoch /  200 roop  loss: 0.404\n",
            "14 epoch /  300 roop  loss: 0.396\n",
            "14 epoch /  400 roop  loss: 0.399\n",
            "14 epoch /  500 roop  loss: 0.413\n",
            "14 epoch /  600 roop  loss: 0.384\n",
            "15 epoch /  100 roop  loss: 0.383\n",
            "15 epoch /  200 roop  loss: 0.396\n",
            "15 epoch /  300 roop  loss: 0.375\n",
            "15 epoch /  400 roop  loss: 0.385\n",
            "15 epoch /  500 roop  loss: 0.390\n",
            "15 epoch /  600 roop  loss: 0.405\n",
            "16 epoch /  100 roop  loss: 0.385\n",
            "16 epoch /  200 roop  loss: 0.384\n",
            "16 epoch /  300 roop  loss: 0.378\n",
            "16 epoch /  400 roop  loss: 0.369\n",
            "16 epoch /  500 roop  loss: 0.385\n",
            "16 epoch /  600 roop  loss: 0.371\n",
            "17 epoch /  100 roop  loss: 0.369\n",
            "17 epoch /  200 roop  loss: 0.381\n",
            "17 epoch /  300 roop  loss: 0.363\n",
            "17 epoch /  400 roop  loss: 0.363\n",
            "17 epoch /  500 roop  loss: 0.378\n",
            "17 epoch /  600 roop  loss: 0.372\n",
            "18 epoch /  100 roop  loss: 0.386\n",
            "18 epoch /  200 roop  loss: 0.372\n",
            "18 epoch /  300 roop  loss: 0.386\n",
            "18 epoch /  400 roop  loss: 0.356\n",
            "18 epoch /  500 roop  loss: 0.376\n",
            "18 epoch /  600 roop  loss: 0.365\n",
            "19 epoch /  100 roop  loss: 0.379\n",
            "19 epoch /  200 roop  loss: 0.380\n",
            "19 epoch /  300 roop  loss: 0.382\n",
            "19 epoch /  400 roop  loss: 0.359\n",
            "19 epoch /  500 roop  loss: 0.374\n",
            "19 epoch /  600 roop  loss: 0.367\n",
            "20 epoch /  100 roop  loss: 0.361\n",
            "20 epoch /  200 roop  loss: 0.375\n",
            "20 epoch /  300 roop  loss: 0.357\n",
            "20 epoch /  400 roop  loss: 0.383\n",
            "20 epoch /  500 roop  loss: 0.364\n",
            "20 epoch /  600 roop  loss: 0.366\n",
            "Finished Training\n"
          ],
          "name": "stdout"
        },
        {
          "output_type": "display_data",
          "data": {
            "image/png": "[encoded data removed]",
            "text/plain": [
              "<Figure size 432x288 with 1 Axes>"
            ]
          },
          "metadata": {
            "tags": [],
            "image/png": {
              "width": 383,
              "height": 266
            }
          }
        },
        {
          "output_type": "stream",
          "text": [
            "CPU times: user 3min 29s, sys: 6.05 s, total: 3min 35s\n",
            "Wall time: 4min 49s\n"
          ],
          "name": "stdout"
        }
      ]
    },
    {
      "cell_type": "markdown",
      "metadata": {
        "id": "eZ2qUPtggmnL",
        "colab_type": "text"
      },
      "source": [
        "### 個別にテスト"
      ]
    },
    {
      "cell_type": "code",
      "metadata": {
        "id": "7yZ0UeAngmnM",
        "colab_type": "code",
        "outputId": "50ba43a0-40d3-48a1-acef-af88c59f068d",
        "colab": {
          "base_uri": "https://localhost:8080/",
          "height": 298
        }
      },
      "source": [
        "net.eval()\n",
        "each_testloader = torch.utils.data.DataLoader(testset, batch_size=1,\n",
        "                                          shuffle=True, num_workers=2)\n",
        "\n",
        "\n",
        "dataiter = iter(each_testloader) \n",
        "plt.figure(figsize=(10,5))\n",
        "with torch.no_grad(): # 学習のときのようなバックグラウンドでの勾配計算は不要なのでしない\n",
        "    for epoch in range(3*8):\n",
        "        image, label = dataiter.next() # each_testloader はバッチサイズを１にしたので1枚ずつ出てくる\n",
        "        image, label = try_gpu(image), try_gpu(label)\n",
        "        output = net(image)\n",
        "        _, predicted = torch.max(output, 1)\n",
        "        predicted = predicted.item() # tensor(pytorchでのデータ型)をpythonの数に直す\n",
        "        image = image.cpu().reshape(28, 28) \n",
        "        label = label.item() \n",
        "        plt.subplot(3, 8, epoch+1)\n",
        "        plt.axis(\"off\")\n",
        "        plt.imshow(image, cmap='gray')\n",
        "        if predicted == label:\n",
        "            plt.title(predicted, color='black')\n",
        "        else:\n",
        "            plt.title(predicted, color='red')\n",
        "   \n",
        "    plt.show()\n"
      ],
      "execution_count": 7,
      "outputs": [
        {
          "output_type": "display_data",
          "data": {
            "image/png": "[encoded data removed]",
            "text/plain": [
              "<Figure size 720x360 with 24 Axes>"
            ]
          },
          "metadata": {
            "tags": [],
            "image/png": {
              "width": 572,
              "height": 281
            }
          }
        }
      ]
    },
    {
      "cell_type": "markdown",
      "metadata": {
        "id": "QQqTtS0sgmnO",
        "colab_type": "text"
      },
      "source": [
        "### 正解率を出す"
      ]
    },
    {
      "cell_type": "code",
      "metadata": {
        "id": "qoiZzdLegmnP",
        "colab_type": "code",
        "outputId": "6e26147f-b6a0-4fd8-be6c-c748b8f28d0d",
        "colab": {
          "base_uri": "https://localhost:8080/",
          "height": 89
        }
      },
      "source": [
        "%%time\n",
        "net.eval()\n",
        "with torch.no_grad(): # 学習のときのようなバックグラウンドでの勾配計算は不要なのでしない\n",
        "    for txt, loader in zip(('Train', 'Test '), (trainloader, testloader)):\n",
        "        correct = 0\n",
        "        total = 0\n",
        "        for data in loader:\n",
        "            images, labels = data\n",
        "            images, labels = try_gpu(images), try_gpu(labels)\n",
        "            outputs = net(images)\n",
        "            _, predicted = torch.max(outputs.data, 1)\n",
        "            total += labels.size(0)\n",
        "            correct += (predicted == labels).sum().item()\n",
        "        print(f'{txt} Accuracy: {100 * correct / total} %')"
      ],
      "execution_count": 8,
      "outputs": [
        {
          "output_type": "stream",
          "text": [
            "Train Accuracy: 98.95166666666667 %\n",
            "Test  Accuracy: 99.03 %\n",
            "CPU times: user 2.7 s, sys: 356 ms, total: 3.06 s\n",
            "Wall time: 11.2 s\n"
          ],
          "name": "stdout"
        }
      ]
    },
    {
      "cell_type": "code",
      "metadata": {
        "id": "bnM2COhOE7WW",
        "colab_type": "code",
        "colab": {}
      },
      "source": [
        ""
      ],
      "execution_count": 0,
      "outputs": []
    }
  ]
}